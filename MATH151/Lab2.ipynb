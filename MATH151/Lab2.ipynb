{
 "cells": [
  {
   "cell_type": "markdown",
   "id": "20c00fa5",
   "metadata": {},
   "source": [
    "## MATH 151 Lab  2"
   ]
  },
  {
   "cell_type": "markdown",
   "id": "7c243ef1",
   "metadata": {},
   "source": [
    "Put team members' names and section number here."
   ]
  },
  {
   "cell_type": "code",
   "execution_count": 2,
   "id": "cf836732",
   "metadata": {},
   "outputs": [],
   "source": [
    "from sympy import *\n",
    "from sympy.plotting import (plot,plot_parametric)"
   ]
  },
  {
   "cell_type": "markdown",
   "id": "3169990f",
   "metadata": {},
   "source": [
    "### Question 1"
   ]
  },
  {
   "cell_type": "markdown",
   "id": "f0561a86",
   "metadata": {},
   "source": [
    "#### 1a"
   ]
  },
  {
   "cell_type": "code",
   "execution_count": 3,
   "id": "cbfab3f6",
   "metadata": {},
   "outputs": [
    {
     "name": "stdout",
     "output_type": "stream",
     "text": [
      "The values of x for which f(x)=0 are [-3/2 - sqrt(5)/2, -3/2 + sqrt(5)/2]\n"
     ]
    }
   ],
   "source": [
    "x = symbols(\"x\")\n",
    "V = 1 + x * (x + 1) * (x + 2) * (x +3)\n",
    "solutions = solve(V, x)\n",
    "print(f\"The values of x for which f(x)=0 are {solutions}\")"
   ]
  },
  {
   "cell_type": "markdown",
   "id": "efdd616f",
   "metadata": {},
   "source": [
    "#### 1b"
   ]
  },
  {
   "cell_type": "code",
   "execution_count": 4,
   "id": "6fd5ac31",
   "metadata": {},
   "outputs": [
    {
     "name": "stdout",
     "output_type": "stream",
     "text": [
      "An expanded expression of the polynomial is x**4 + 6*x**3 + 11*x**2 + 6*x + 1\n"
     ]
    }
   ],
   "source": [
    "x = symbols(\"x\")\n",
    "V = 1 + x * (x + 1) * (x + 2) * (x +3)\n",
    "print(f\"An expanded expression of the polynomial is {V.expand()}\")"
   ]
  },
  {
   "cell_type": "markdown",
   "id": "b4d3d3ac",
   "metadata": {},
   "source": [
    "#### 1c"
   ]
  },
  {
   "cell_type": "code",
   "execution_count": 5,
   "id": "a08b7797",
   "metadata": {},
   "outputs": [
    {
     "name": "stdout",
     "output_type": "stream",
     "text": [
      "A factored expression of the polynomial is (x**2 + 3*x + 1)**2\n"
     ]
    }
   ],
   "source": [
    "x = symbols(\"x\")\n",
    "V = 1 + x * (x + 1) * (x + 2) * (x +3)\n",
    "print(f\"A factored expression of the polynomial is {V.factor()}\")"
   ]
  },
  {
   "cell_type": "markdown",
   "id": "8111d61d",
   "metadata": {},
   "source": [
    "#### 1d"
   ]
  },
  {
   "cell_type": "code",
   "execution_count": 6,
   "id": "afbad488",
   "metadata": {},
   "outputs": [
    {
     "name": "stdout",
     "output_type": "stream",
     "text": [
      "    120 |.                                                      \n",
      "        |                                                       \n",
      "        |                                                       \n",
      "        | .                                                     \n",
      "        |                                                       \n",
      "        |  .                                                    \n",
      "        |                                                       \n",
      "        |   .                                                   \n",
      "        |                                                       \n",
      "        |    .                                                  \n",
      "     60 |-------------------------------------------------------\n",
      "        |     .                                                 \n",
      "        |      .                                                \n",
      "        |                                                       \n",
      "        |       .                                               \n",
      "        |        \\                                              \n",
      "        |         \\                                            /\n",
      "        |          ..                                        .. \n",
      "        |            \\                                      /   \n",
      "        |             ...                                ...    \n",
      "      0 |_______________________________________________________\n",
      "         -5                         -2                         1\n"
     ]
    },
    {
     "data": {
      "text/plain": [
       "<sympy.plotting.plot.Plot at 0x7fad1d413a60>"
      ]
     },
     "execution_count": 6,
     "metadata": {},
     "output_type": "execute_result"
    }
   ],
   "source": [
    "V = 1 + x * (x + 1) * (x + 2) * (x +3)\n",
    "plot(V,(x,-5,1), ylim = [-5, 5])"
   ]
  },
  {
   "cell_type": "markdown",
   "id": "8b00f000",
   "metadata": {},
   "source": [
    "### Question 2"
   ]
  },
  {
   "cell_type": "markdown",
   "id": "bacdc1db",
   "metadata": {},
   "source": [
    "#### 2a"
   ]
  },
  {
   "cell_type": "code",
   "execution_count": 25,
   "id": "be2f2c71",
   "metadata": {},
   "outputs": [
    {
     "name": "stdout",
     "output_type": "stream",
     "text": [
      "The book hits the ground at time of 1.10656667034498 after the book was released\n"
     ]
    }
   ],
   "source": [
    "t = symbols(\"t\")\n",
    "V = ((-0.5)*(9.8)*(t**2))+6\n",
    "solution = solve(V, t)[1]\n",
    "print(f\"The book hits the ground at time of {solution} after the book was released\")\n"
   ]
  },
  {
   "cell_type": "markdown",
   "id": "23bc68a6",
   "metadata": {},
   "source": [
    "#### 2b"
   ]
  },
  {
   "cell_type": "code",
   "execution_count": 22,
   "id": "357bbf0f",
   "metadata": {},
   "outputs": [
    {
     "ename": "KeyboardInterrupt",
     "evalue": "",
     "output_type": "error",
     "traceback": [
      "\u001b[0;31m---------------------------------------------------------------------------\u001b[0m",
      "\u001b[0;31mKeyboardInterrupt\u001b[0m                         Traceback (most recent call last)",
      "\u001b[1;32m/home/sumitn/code/FreshmanEngineering/MATH151/Lab2.ipynb Cell 17\u001b[0m in \u001b[0;36m<cell line: 3>\u001b[0;34m()\u001b[0m\n\u001b[1;32m      <a href='vscode-notebook-cell://wsl%2Bubuntu-22.04/home/sumitn/code/FreshmanEngineering/MATH151/Lab2.ipynb#X22sdnNjb2RlLXJlbW90ZQ%3D%3D?line=0'>1</a>\u001b[0m t \u001b[39m=\u001b[39m symbols(\u001b[39m\"\u001b[39m\u001b[39mt\u001b[39m\u001b[39m\"\u001b[39m)\n\u001b[1;32m      <a href='vscode-notebook-cell://wsl%2Bubuntu-22.04/home/sumitn/code/FreshmanEngineering/MATH151/Lab2.ipynb#X22sdnNjb2RlLXJlbW90ZQ%3D%3D?line=1'>2</a>\u001b[0m V \u001b[39m=\u001b[39m (\u001b[39m-\u001b[39m\u001b[39m2\u001b[39m\u001b[39m*\u001b[39m\u001b[39m9.8\u001b[39m\u001b[39m*\u001b[39mt) \u001b[39m-\u001b[39m ((\u001b[39m2\u001b[39m\u001b[39m*\u001b[39m\u001b[39m*\u001b[39m\u001b[39m2\u001b[39m)\u001b[39m*\u001b[39m\u001b[39m9.8\u001b[39m\u001b[39m*\u001b[39m(E\u001b[39m*\u001b[39m\u001b[39m*\u001b[39m(\u001b[39m-\u001b[39mt\u001b[39m/\u001b[39m\u001b[39m2\u001b[39m))) \u001b[39m+\u001b[39m ((\u001b[39m2\u001b[39m\u001b[39m*\u001b[39m\u001b[39m*\u001b[39m\u001b[39m2\u001b[39m)\u001b[39m*\u001b[39m\u001b[39m9.8\u001b[39m\u001b[39m+\u001b[39m\u001b[39m6\u001b[39m)\n\u001b[0;32m----> <a href='vscode-notebook-cell://wsl%2Bubuntu-22.04/home/sumitn/code/FreshmanEngineering/MATH151/Lab2.ipynb#X22sdnNjb2RlLXJlbW90ZQ%3D%3D?line=2'>3</a>\u001b[0m solution \u001b[39m=\u001b[39m solve(V, t)\n",
      "File \u001b[0;32m~/.local/lib/python3.10/site-packages/sympy/solvers/solvers.py:1112\u001b[0m, in \u001b[0;36msolve\u001b[0;34m(f, *symbols, **flags)\u001b[0m\n\u001b[1;32m   1108\u001b[0m \u001b[39m#\u001b[39;00m\n\u001b[1;32m   1109\u001b[0m \u001b[39m# try to get a solution\u001b[39;00m\n\u001b[1;32m   1110\u001b[0m \u001b[39m###########################################################################\u001b[39;00m\n\u001b[1;32m   1111\u001b[0m \u001b[39mif\u001b[39;00m bare_f:\n\u001b[0;32m-> 1112\u001b[0m     solution \u001b[39m=\u001b[39m _solve(f[\u001b[39m0\u001b[39;49m], \u001b[39m*\u001b[39;49msymbols, \u001b[39m*\u001b[39;49m\u001b[39m*\u001b[39;49mflags)\n\u001b[1;32m   1113\u001b[0m \u001b[39melse\u001b[39;00m:\n\u001b[1;32m   1114\u001b[0m     solution \u001b[39m=\u001b[39m _solve_system(f, symbols, \u001b[39m*\u001b[39m\u001b[39m*\u001b[39mflags)\n",
      "File \u001b[0;32m~/.local/lib/python3.10/site-packages/sympy/solvers/solvers.py:1747\u001b[0m, in \u001b[0;36m_solve\u001b[0;34m(f, *symbols, **flags)\u001b[0m\n\u001b[1;32m   1744\u001b[0m     \u001b[39mraise\u001b[39;00m \u001b[39mNotImplementedError\u001b[39;00m(\u001b[39m'\u001b[39m\u001b[39m\\n\u001b[39;00m\u001b[39m'\u001b[39m\u001b[39m.\u001b[39mjoin([msg, not_impl_msg \u001b[39m%\u001b[39m f]))\n\u001b[1;32m   1746\u001b[0m \u001b[39mif\u001b[39;00m flags\u001b[39m.\u001b[39mget(\u001b[39m'\u001b[39m\u001b[39msimplify\u001b[39m\u001b[39m'\u001b[39m, \u001b[39mTrue\u001b[39;00m):\n\u001b[0;32m-> 1747\u001b[0m     result \u001b[39m=\u001b[39m \u001b[39mlist\u001b[39;49m(\u001b[39mmap\u001b[39;49m(simplify, result))\n\u001b[1;32m   1748\u001b[0m     \u001b[39m# we just simplified the solution so we now set the flag to\u001b[39;00m\n\u001b[1;32m   1749\u001b[0m     \u001b[39m# False so the simplification doesn't happen again in checksol()\u001b[39;00m\n\u001b[1;32m   1750\u001b[0m     flags[\u001b[39m'\u001b[39m\u001b[39msimplify\u001b[39m\u001b[39m'\u001b[39m] \u001b[39m=\u001b[39m \u001b[39mFalse\u001b[39;00m\n",
      "File \u001b[0;32m~/.local/lib/python3.10/site-packages/sympy/simplify/simplify.py:615\u001b[0m, in \u001b[0;36msimplify\u001b[0;34m(expr, ratio, measure, rational, inverse, doit, **kwargs)\u001b[0m\n\u001b[1;32m    613\u001b[0m \u001b[39m# do deep simplification\u001b[39;00m\n\u001b[1;32m    614\u001b[0m handled \u001b[39m=\u001b[39m Add, Mul, Pow, ExpBase\n\u001b[0;32m--> 615\u001b[0m expr \u001b[39m=\u001b[39m expr\u001b[39m.\u001b[39;49mreplace(\n\u001b[1;32m    616\u001b[0m     \u001b[39m# here, checking for x.args is not enough because Basic has\u001b[39;49;00m\n\u001b[1;32m    617\u001b[0m     \u001b[39m# args but Basic does not always play well with replace, e.g.\u001b[39;49;00m\n\u001b[1;32m    618\u001b[0m     \u001b[39m# when simultaneous is True found expressions will be masked\u001b[39;49;00m\n\u001b[1;32m    619\u001b[0m     \u001b[39m# off with a Dummy but not all Basic objects in an expression\u001b[39;49;00m\n\u001b[1;32m    620\u001b[0m     \u001b[39m# can be replaced with a Dummy\u001b[39;49;00m\n\u001b[1;32m    621\u001b[0m     \u001b[39mlambda\u001b[39;49;00m x: \u001b[39misinstance\u001b[39;49m(x, Expr) \u001b[39mand\u001b[39;49;00m x\u001b[39m.\u001b[39;49margs \u001b[39mand\u001b[39;49;00m \u001b[39mnot\u001b[39;49;00m \u001b[39misinstance\u001b[39;49m(\n\u001b[1;32m    622\u001b[0m         x, handled),\n\u001b[1;32m    623\u001b[0m     \u001b[39mlambda\u001b[39;49;00m x: x\u001b[39m.\u001b[39;49mfunc(\u001b[39m*\u001b[39;49m[simplify(i, \u001b[39m*\u001b[39;49m\u001b[39m*\u001b[39;49mkwargs) \u001b[39mfor\u001b[39;49;00m i \u001b[39min\u001b[39;49;00m x\u001b[39m.\u001b[39;49margs]),\n\u001b[1;32m    624\u001b[0m     simultaneous\u001b[39m=\u001b[39;49m\u001b[39mFalse\u001b[39;49;00m)\n\u001b[1;32m    625\u001b[0m \u001b[39mif\u001b[39;00m \u001b[39mnot\u001b[39;00m \u001b[39misinstance\u001b[39m(expr, handled):\n\u001b[1;32m    626\u001b[0m     \u001b[39mreturn\u001b[39;00m done(expr)\n",
      "File \u001b[0;32m~/.local/lib/python3.10/site-packages/sympy/core/basic.py:1581\u001b[0m, in \u001b[0;36mBasic.replace\u001b[0;34m(self, query, value, map, simultaneous, exact)\u001b[0m\n\u001b[1;32m   1578\u001b[0m             expr \u001b[39m=\u001b[39m v\n\u001b[1;32m   1579\u001b[0m     \u001b[39mreturn\u001b[39;00m expr\n\u001b[0;32m-> 1581\u001b[0m rv \u001b[39m=\u001b[39m walk(\u001b[39mself\u001b[39;49m, rec_replace)\n\u001b[1;32m   1582\u001b[0m \u001b[39mreturn\u001b[39;00m (rv, mapping) \u001b[39mif\u001b[39;00m \u001b[39mmap\u001b[39m \u001b[39melse\u001b[39;00m rv\n",
      "File \u001b[0;32m~/.local/lib/python3.10/site-packages/sympy/core/basic.py:1556\u001b[0m, in \u001b[0;36mBasic.replace.<locals>.walk\u001b[0;34m(rv, F)\u001b[0m\n\u001b[1;32m   1554\u001b[0m \u001b[39mif\u001b[39;00m args \u001b[39mis\u001b[39;00m \u001b[39mnot\u001b[39;00m \u001b[39mNone\u001b[39;00m:\n\u001b[1;32m   1555\u001b[0m     \u001b[39mif\u001b[39;00m args:\n\u001b[0;32m-> 1556\u001b[0m         newargs \u001b[39m=\u001b[39m \u001b[39mtuple\u001b[39m([walk(a, F) \u001b[39mfor\u001b[39;00m a \u001b[39min\u001b[39;00m args])\n\u001b[1;32m   1557\u001b[0m         \u001b[39mif\u001b[39;00m args \u001b[39m!=\u001b[39m newargs:\n\u001b[1;32m   1558\u001b[0m             rv \u001b[39m=\u001b[39m rv\u001b[39m.\u001b[39mfunc(\u001b[39m*\u001b[39mnewargs)\n",
      "File \u001b[0;32m~/.local/lib/python3.10/site-packages/sympy/core/basic.py:1556\u001b[0m, in \u001b[0;36m<listcomp>\u001b[0;34m(.0)\u001b[0m\n\u001b[1;32m   1554\u001b[0m \u001b[39mif\u001b[39;00m args \u001b[39mis\u001b[39;00m \u001b[39mnot\u001b[39;00m \u001b[39mNone\u001b[39;00m:\n\u001b[1;32m   1555\u001b[0m     \u001b[39mif\u001b[39;00m args:\n\u001b[0;32m-> 1556\u001b[0m         newargs \u001b[39m=\u001b[39m \u001b[39mtuple\u001b[39m([walk(a, F) \u001b[39mfor\u001b[39;00m a \u001b[39min\u001b[39;00m args])\n\u001b[1;32m   1557\u001b[0m         \u001b[39mif\u001b[39;00m args \u001b[39m!=\u001b[39m newargs:\n\u001b[1;32m   1558\u001b[0m             rv \u001b[39m=\u001b[39m rv\u001b[39m.\u001b[39mfunc(\u001b[39m*\u001b[39mnewargs)\n",
      "File \u001b[0;32m~/.local/lib/python3.10/site-packages/sympy/core/basic.py:1556\u001b[0m, in \u001b[0;36mBasic.replace.<locals>.walk\u001b[0;34m(rv, F)\u001b[0m\n\u001b[1;32m   1554\u001b[0m \u001b[39mif\u001b[39;00m args \u001b[39mis\u001b[39;00m \u001b[39mnot\u001b[39;00m \u001b[39mNone\u001b[39;00m:\n\u001b[1;32m   1555\u001b[0m     \u001b[39mif\u001b[39;00m args:\n\u001b[0;32m-> 1556\u001b[0m         newargs \u001b[39m=\u001b[39m \u001b[39mtuple\u001b[39m([walk(a, F) \u001b[39mfor\u001b[39;00m a \u001b[39min\u001b[39;00m args])\n\u001b[1;32m   1557\u001b[0m         \u001b[39mif\u001b[39;00m args \u001b[39m!=\u001b[39m newargs:\n\u001b[1;32m   1558\u001b[0m             rv \u001b[39m=\u001b[39m rv\u001b[39m.\u001b[39mfunc(\u001b[39m*\u001b[39mnewargs)\n",
      "File \u001b[0;32m~/.local/lib/python3.10/site-packages/sympy/core/basic.py:1556\u001b[0m, in \u001b[0;36m<listcomp>\u001b[0;34m(.0)\u001b[0m\n\u001b[1;32m   1554\u001b[0m \u001b[39mif\u001b[39;00m args \u001b[39mis\u001b[39;00m \u001b[39mnot\u001b[39;00m \u001b[39mNone\u001b[39;00m:\n\u001b[1;32m   1555\u001b[0m     \u001b[39mif\u001b[39;00m args:\n\u001b[0;32m-> 1556\u001b[0m         newargs \u001b[39m=\u001b[39m \u001b[39mtuple\u001b[39m([walk(a, F) \u001b[39mfor\u001b[39;00m a \u001b[39min\u001b[39;00m args])\n\u001b[1;32m   1557\u001b[0m         \u001b[39mif\u001b[39;00m args \u001b[39m!=\u001b[39m newargs:\n\u001b[1;32m   1558\u001b[0m             rv \u001b[39m=\u001b[39m rv\u001b[39m.\u001b[39mfunc(\u001b[39m*\u001b[39mnewargs)\n",
      "File \u001b[0;32m~/.local/lib/python3.10/site-packages/sympy/core/basic.py:1566\u001b[0m, in \u001b[0;36mBasic.replace.<locals>.walk\u001b[0;34m(rv, F)\u001b[0m\n\u001b[1;32m   1564\u001b[0m                     \u001b[39mif\u001b[39;00m rv \u001b[39m==\u001b[39m e \u001b[39mand\u001b[39;00m e \u001b[39m!=\u001b[39m newargs[i]:\n\u001b[1;32m   1565\u001b[0m                         \u001b[39mreturn\u001b[39;00m rv\n\u001b[0;32m-> 1566\u001b[0m     rv \u001b[39m=\u001b[39m F(rv)\n\u001b[1;32m   1567\u001b[0m \u001b[39mreturn\u001b[39;00m rv\n",
      "File \u001b[0;32m~/.local/lib/python3.10/site-packages/sympy/core/basic.py:1574\u001b[0m, in \u001b[0;36mBasic.replace.<locals>.rec_replace\u001b[0;34m(expr)\u001b[0m\n\u001b[1;32m   1572\u001b[0m result \u001b[39m=\u001b[39m _query(expr)\n\u001b[1;32m   1573\u001b[0m \u001b[39mif\u001b[39;00m result \u001b[39mor\u001b[39;00m result \u001b[39m==\u001b[39m {}:\n\u001b[0;32m-> 1574\u001b[0m     v \u001b[39m=\u001b[39m _value(expr, result)\n\u001b[1;32m   1575\u001b[0m     \u001b[39mif\u001b[39;00m v \u001b[39mis\u001b[39;00m \u001b[39mnot\u001b[39;00m \u001b[39mNone\u001b[39;00m \u001b[39mand\u001b[39;00m v \u001b[39m!=\u001b[39m expr:\n\u001b[1;32m   1576\u001b[0m         \u001b[39mif\u001b[39;00m \u001b[39mmap\u001b[39m:\n",
      "File \u001b[0;32m~/.local/lib/python3.10/site-packages/sympy/core/basic.py:1540\u001b[0m, in \u001b[0;36mBasic.replace.<locals>.<lambda>\u001b[0;34m(expr, result)\u001b[0m\n\u001b[1;32m   1537\u001b[0m _query \u001b[39m=\u001b[39m query\n\u001b[1;32m   1539\u001b[0m \u001b[39mif\u001b[39;00m callable(value):\n\u001b[0;32m-> 1540\u001b[0m     _value \u001b[39m=\u001b[39m \u001b[39mlambda\u001b[39;00m expr, result: value(expr)\n\u001b[1;32m   1541\u001b[0m \u001b[39melse\u001b[39;00m:\n\u001b[1;32m   1542\u001b[0m     \u001b[39mraise\u001b[39;00m \u001b[39mTypeError\u001b[39;00m(\n\u001b[1;32m   1543\u001b[0m         \u001b[39m\"\u001b[39m\u001b[39mgiven a callable, replace() expects \u001b[39m\u001b[39m\"\u001b[39m\n\u001b[1;32m   1544\u001b[0m         \u001b[39m\"\u001b[39m\u001b[39manother callable\u001b[39m\u001b[39m\"\u001b[39m)\n",
      "File \u001b[0;32m~/.local/lib/python3.10/site-packages/sympy/simplify/simplify.py:623\u001b[0m, in \u001b[0;36msimplify.<locals>.<lambda>\u001b[0;34m(x)\u001b[0m\n\u001b[1;32m    613\u001b[0m \u001b[39m# do deep simplification\u001b[39;00m\n\u001b[1;32m    614\u001b[0m handled \u001b[39m=\u001b[39m Add, Mul, Pow, ExpBase\n\u001b[1;32m    615\u001b[0m expr \u001b[39m=\u001b[39m expr\u001b[39m.\u001b[39mreplace(\n\u001b[1;32m    616\u001b[0m     \u001b[39m# here, checking for x.args is not enough because Basic has\u001b[39;00m\n\u001b[1;32m    617\u001b[0m     \u001b[39m# args but Basic does not always play well with replace, e.g.\u001b[39;00m\n\u001b[1;32m    618\u001b[0m     \u001b[39m# when simultaneous is True found expressions will be masked\u001b[39;00m\n\u001b[1;32m    619\u001b[0m     \u001b[39m# off with a Dummy but not all Basic objects in an expression\u001b[39;00m\n\u001b[1;32m    620\u001b[0m     \u001b[39m# can be replaced with a Dummy\u001b[39;00m\n\u001b[1;32m    621\u001b[0m     \u001b[39mlambda\u001b[39;00m x: \u001b[39misinstance\u001b[39m(x, Expr) \u001b[39mand\u001b[39;00m x\u001b[39m.\u001b[39margs \u001b[39mand\u001b[39;00m \u001b[39mnot\u001b[39;00m \u001b[39misinstance\u001b[39m(\n\u001b[1;32m    622\u001b[0m         x, handled),\n\u001b[0;32m--> 623\u001b[0m     \u001b[39mlambda\u001b[39;00m x: x\u001b[39m.\u001b[39mfunc(\u001b[39m*\u001b[39m[simplify(i, \u001b[39m*\u001b[39m\u001b[39m*\u001b[39mkwargs) \u001b[39mfor\u001b[39;00m i \u001b[39min\u001b[39;00m x\u001b[39m.\u001b[39margs]),\n\u001b[1;32m    624\u001b[0m     simultaneous\u001b[39m=\u001b[39m\u001b[39mFalse\u001b[39;00m)\n\u001b[1;32m    625\u001b[0m \u001b[39mif\u001b[39;00m \u001b[39mnot\u001b[39;00m \u001b[39misinstance\u001b[39m(expr, handled):\n\u001b[1;32m    626\u001b[0m     \u001b[39mreturn\u001b[39;00m done(expr)\n",
      "File \u001b[0;32m~/.local/lib/python3.10/site-packages/sympy/simplify/simplify.py:623\u001b[0m, in \u001b[0;36m<listcomp>\u001b[0;34m(.0)\u001b[0m\n\u001b[1;32m    613\u001b[0m \u001b[39m# do deep simplification\u001b[39;00m\n\u001b[1;32m    614\u001b[0m handled \u001b[39m=\u001b[39m Add, Mul, Pow, ExpBase\n\u001b[1;32m    615\u001b[0m expr \u001b[39m=\u001b[39m expr\u001b[39m.\u001b[39mreplace(\n\u001b[1;32m    616\u001b[0m     \u001b[39m# here, checking for x.args is not enough because Basic has\u001b[39;00m\n\u001b[1;32m    617\u001b[0m     \u001b[39m# args but Basic does not always play well with replace, e.g.\u001b[39;00m\n\u001b[1;32m    618\u001b[0m     \u001b[39m# when simultaneous is True found expressions will be masked\u001b[39;00m\n\u001b[1;32m    619\u001b[0m     \u001b[39m# off with a Dummy but not all Basic objects in an expression\u001b[39;00m\n\u001b[1;32m    620\u001b[0m     \u001b[39m# can be replaced with a Dummy\u001b[39;00m\n\u001b[1;32m    621\u001b[0m     \u001b[39mlambda\u001b[39;00m x: \u001b[39misinstance\u001b[39m(x, Expr) \u001b[39mand\u001b[39;00m x\u001b[39m.\u001b[39margs \u001b[39mand\u001b[39;00m \u001b[39mnot\u001b[39;00m \u001b[39misinstance\u001b[39m(\n\u001b[1;32m    622\u001b[0m         x, handled),\n\u001b[0;32m--> 623\u001b[0m     \u001b[39mlambda\u001b[39;00m x: x\u001b[39m.\u001b[39mfunc(\u001b[39m*\u001b[39m[simplify(i, \u001b[39m*\u001b[39;49m\u001b[39m*\u001b[39;49mkwargs) \u001b[39mfor\u001b[39;00m i \u001b[39min\u001b[39;00m x\u001b[39m.\u001b[39margs]),\n\u001b[1;32m    624\u001b[0m     simultaneous\u001b[39m=\u001b[39m\u001b[39mFalse\u001b[39;00m)\n\u001b[1;32m    625\u001b[0m \u001b[39mif\u001b[39;00m \u001b[39mnot\u001b[39;00m \u001b[39misinstance\u001b[39m(expr, handled):\n\u001b[1;32m    626\u001b[0m     \u001b[39mreturn\u001b[39;00m done(expr)\n",
      "File \u001b[0;32m~/.local/lib/python3.10/site-packages/sympy/simplify/simplify.py:699\u001b[0m, in \u001b[0;36msimplify\u001b[0;34m(expr, ratio, measure, rational, inverse, doit, **kwargs)\u001b[0m\n\u001b[1;32m    696\u001b[0m     expr \u001b[39m=\u001b[39m besselsimp(expr)\n\u001b[1;32m    698\u001b[0m \u001b[39mif\u001b[39;00m expr\u001b[39m.\u001b[39mhas(TrigonometricFunction, HyperbolicFunction):\n\u001b[0;32m--> 699\u001b[0m     expr \u001b[39m=\u001b[39m trigsimp(expr, deep\u001b[39m=\u001b[39;49m\u001b[39mTrue\u001b[39;49;00m)\n\u001b[1;32m    701\u001b[0m \u001b[39mif\u001b[39;00m expr\u001b[39m.\u001b[39mhas(log):\n\u001b[1;32m    702\u001b[0m     expr \u001b[39m=\u001b[39m shorter(expand_log(expr, deep\u001b[39m=\u001b[39m\u001b[39mTrue\u001b[39;00m), logcombine(expr))\n",
      "File \u001b[0;32m~/.local/lib/python3.10/site-packages/sympy/simplify/trigsimp.py:523\u001b[0m, in \u001b[0;36mtrigsimp\u001b[0;34m(expr, **opts)\u001b[0m\n\u001b[1;32m    512\u001b[0m     \u001b[39mreturn\u001b[39;00m trigsimp_groebner(new, \u001b[39m*\u001b[39m\u001b[39m*\u001b[39mopts)\n\u001b[1;32m    514\u001b[0m trigsimpfunc \u001b[39m=\u001b[39m {\n\u001b[1;32m    515\u001b[0m     \u001b[39m'\u001b[39m\u001b[39mfu\u001b[39m\u001b[39m'\u001b[39m: (\u001b[39mlambda\u001b[39;00m x: fu(x, \u001b[39m*\u001b[39m\u001b[39m*\u001b[39mopts)),\n\u001b[1;32m    516\u001b[0m     \u001b[39m'\u001b[39m\u001b[39mmatching\u001b[39m\u001b[39m'\u001b[39m: (\u001b[39mlambda\u001b[39;00m x: futrig(x)),\n\u001b[0;32m   (...)\u001b[0m\n\u001b[1;32m    520\u001b[0m     \u001b[39m'\u001b[39m\u001b[39mold\u001b[39m\u001b[39m'\u001b[39m: \u001b[39mlambda\u001b[39;00m x: trigsimp_old(x, \u001b[39m*\u001b[39m\u001b[39m*\u001b[39mopts),\n\u001b[1;32m    521\u001b[0m                }[method]\n\u001b[0;32m--> 523\u001b[0m \u001b[39mreturn\u001b[39;00m trigsimpfunc(expr)\n",
      "File \u001b[0;32m~/.local/lib/python3.10/site-packages/sympy/simplify/trigsimp.py:516\u001b[0m, in \u001b[0;36mtrigsimp.<locals>.<lambda>\u001b[0;34m(x)\u001b[0m\n\u001b[1;32m    511\u001b[0m         \u001b[39mreturn\u001b[39;00m new\n\u001b[1;32m    512\u001b[0m     \u001b[39mreturn\u001b[39;00m trigsimp_groebner(new, \u001b[39m*\u001b[39m\u001b[39m*\u001b[39mopts)\n\u001b[1;32m    514\u001b[0m trigsimpfunc \u001b[39m=\u001b[39m {\n\u001b[1;32m    515\u001b[0m     \u001b[39m'\u001b[39m\u001b[39mfu\u001b[39m\u001b[39m'\u001b[39m: (\u001b[39mlambda\u001b[39;00m x: fu(x, \u001b[39m*\u001b[39m\u001b[39m*\u001b[39mopts)),\n\u001b[0;32m--> 516\u001b[0m     \u001b[39m'\u001b[39m\u001b[39mmatching\u001b[39m\u001b[39m'\u001b[39m: (\u001b[39mlambda\u001b[39;00m x: futrig(x)),\n\u001b[1;32m    517\u001b[0m     \u001b[39m'\u001b[39m\u001b[39mgroebner\u001b[39m\u001b[39m'\u001b[39m: (\u001b[39mlambda\u001b[39;00m x: groebnersimp(x, \u001b[39m*\u001b[39m\u001b[39m*\u001b[39mopts)),\n\u001b[1;32m    518\u001b[0m     \u001b[39m'\u001b[39m\u001b[39mcombined\u001b[39m\u001b[39m'\u001b[39m: (\u001b[39mlambda\u001b[39;00m x: futrig(groebnersimp(x,\n\u001b[1;32m    519\u001b[0m                            polynomial\u001b[39m=\u001b[39m\u001b[39mTrue\u001b[39;00m, hints\u001b[39m=\u001b[39m[\u001b[39m2\u001b[39m, tan]))),\n\u001b[1;32m    520\u001b[0m     \u001b[39m'\u001b[39m\u001b[39mold\u001b[39m\u001b[39m'\u001b[39m: \u001b[39mlambda\u001b[39;00m x: trigsimp_old(x, \u001b[39m*\u001b[39m\u001b[39m*\u001b[39mopts),\n\u001b[1;32m    521\u001b[0m                }[method]\n\u001b[1;32m    523\u001b[0m \u001b[39mreturn\u001b[39;00m trigsimpfunc(expr)\n",
      "File \u001b[0;32m~/.local/lib/python3.10/site-packages/sympy/simplify/trigsimp.py:1113\u001b[0m, in \u001b[0;36mfutrig\u001b[0;34m(e, hyper, **kwargs)\u001b[0m\n\u001b[1;32m   1110\u001b[0m     \u001b[39mreturn\u001b[39;00m e\n\u001b[1;32m   1112\u001b[0m old \u001b[39m=\u001b[39m e\n\u001b[0;32m-> 1113\u001b[0m e \u001b[39m=\u001b[39m bottom_up(e, _futrig)\n\u001b[1;32m   1115\u001b[0m \u001b[39mif\u001b[39;00m hyper \u001b[39mand\u001b[39;00m e\u001b[39m.\u001b[39mhas(HyperbolicFunction):\n\u001b[1;32m   1116\u001b[0m     e, f \u001b[39m=\u001b[39m hyper_as_trig(e)\n",
      "File \u001b[0;32m~/.local/lib/python3.10/site-packages/sympy/core/traversal.py:240\u001b[0m, in \u001b[0;36mbottom_up\u001b[0;34m(rv, F, atoms, nonbasic)\u001b[0m\n\u001b[1;32m    238\u001b[0m     \u001b[39mif\u001b[39;00m args \u001b[39m!=\u001b[39m rv\u001b[39m.\u001b[39margs:\n\u001b[1;32m    239\u001b[0m         rv \u001b[39m=\u001b[39m rv\u001b[39m.\u001b[39mfunc(\u001b[39m*\u001b[39margs)\n\u001b[0;32m--> 240\u001b[0m     rv \u001b[39m=\u001b[39m F(rv)\n\u001b[1;32m    241\u001b[0m \u001b[39melif\u001b[39;00m atoms:\n\u001b[1;32m    242\u001b[0m     rv \u001b[39m=\u001b[39m F(rv)\n",
      "File \u001b[0;32m~/.local/lib/python3.10/site-packages/sympy/simplify/trigsimp.py:1180\u001b[0m, in \u001b[0;36m_futrig\u001b[0;34m(e)\u001b[0m\n\u001b[1;32m   1141\u001b[0m trigs \u001b[39m=\u001b[39m \u001b[39mlambda\u001b[39;00m x: x\u001b[39m.\u001b[39mhas(TrigonometricFunction)\n\u001b[1;32m   1143\u001b[0m tree \u001b[39m=\u001b[39m [identity,\n\u001b[1;32m   1144\u001b[0m     (\n\u001b[1;32m   1145\u001b[0m     TR3,  \u001b[39m# canonical angles\u001b[39;00m\n\u001b[0;32m   (...)\u001b[0m\n\u001b[1;32m   1178\u001b[0m         factor_terms, TR12(x), trigs)],  \u001b[39m# expand tan of sum\u001b[39;00m\n\u001b[1;32m   1179\u001b[0m     )]\n\u001b[0;32m-> 1180\u001b[0m e \u001b[39m=\u001b[39m greedy(tree, objective\u001b[39m=\u001b[39;49mLops)(e)\n\u001b[1;32m   1182\u001b[0m \u001b[39mif\u001b[39;00m coeff \u001b[39mis\u001b[39;00m \u001b[39mnot\u001b[39;00m \u001b[39mNone\u001b[39;00m:\n\u001b[1;32m   1183\u001b[0m     e \u001b[39m=\u001b[39m coeff \u001b[39m*\u001b[39m e\n",
      "File \u001b[0;32m~/.local/lib/python3.10/site-packages/sympy/strategies/core.py:111\u001b[0m, in \u001b[0;36mminimize.<locals>.minrule\u001b[0;34m(expr)\u001b[0m\n\u001b[1;32m    110\u001b[0m \u001b[39mdef\u001b[39;00m \u001b[39mminrule\u001b[39m(expr):\n\u001b[0;32m--> 111\u001b[0m     \u001b[39mreturn\u001b[39;00m \u001b[39mmin\u001b[39m([rule(expr) \u001b[39mfor\u001b[39;00m rule \u001b[39min\u001b[39;00m rules], key\u001b[39m=\u001b[39mobjective)\n",
      "File \u001b[0;32m~/.local/lib/python3.10/site-packages/sympy/strategies/core.py:111\u001b[0m, in \u001b[0;36m<listcomp>\u001b[0;34m(.0)\u001b[0m\n\u001b[1;32m    110\u001b[0m \u001b[39mdef\u001b[39;00m \u001b[39mminrule\u001b[39m(expr):\n\u001b[0;32m--> 111\u001b[0m     \u001b[39mreturn\u001b[39;00m \u001b[39mmin\u001b[39m([rule(expr) \u001b[39mfor\u001b[39;00m rule \u001b[39min\u001b[39;00m rules], key\u001b[39m=\u001b[39mobjective)\n",
      "File \u001b[0;32m~/.local/lib/python3.10/site-packages/sympy/strategies/core.py:41\u001b[0m, in \u001b[0;36mchain.<locals>.chain_rl\u001b[0;34m(expr)\u001b[0m\n\u001b[1;32m     39\u001b[0m \u001b[39mdef\u001b[39;00m \u001b[39mchain_rl\u001b[39m(expr):\n\u001b[1;32m     40\u001b[0m     \u001b[39mfor\u001b[39;00m rule \u001b[39min\u001b[39;00m rules:\n\u001b[0;32m---> 41\u001b[0m         expr \u001b[39m=\u001b[39m rule(expr)\n\u001b[1;32m     42\u001b[0m     \u001b[39mreturn\u001b[39;00m expr\n",
      "File \u001b[0;32m~/.local/lib/python3.10/site-packages/sympy/strategies/core.py:111\u001b[0m, in \u001b[0;36mminimize.<locals>.minrule\u001b[0;34m(expr)\u001b[0m\n\u001b[1;32m    110\u001b[0m \u001b[39mdef\u001b[39;00m \u001b[39mminrule\u001b[39m(expr):\n\u001b[0;32m--> 111\u001b[0m     \u001b[39mreturn\u001b[39;00m \u001b[39mmin\u001b[39;49m([rule(expr) \u001b[39mfor\u001b[39;49;00m rule \u001b[39min\u001b[39;49;00m rules], key\u001b[39m=\u001b[39;49mobjective)\n",
      "File \u001b[0;32m~/.local/lib/python3.10/site-packages/sympy/simplify/trigsimp.py:1140\u001b[0m, in \u001b[0;36m_futrig.<locals>.<lambda>\u001b[0;34m(x)\u001b[0m\n\u001b[1;32m   1137\u001b[0m \u001b[39melse\u001b[39;00m:\n\u001b[1;32m   1138\u001b[0m     coeff \u001b[39m=\u001b[39m \u001b[39mNone\u001b[39;00m\n\u001b[0;32m-> 1140\u001b[0m Lops \u001b[39m=\u001b[39m \u001b[39mlambda\u001b[39;00m x: (L(x), x\u001b[39m.\u001b[39;49mcount_ops(), _nodes(x), \u001b[39mlen\u001b[39m(x\u001b[39m.\u001b[39margs), x\u001b[39m.\u001b[39mis_Add)\n\u001b[1;32m   1141\u001b[0m trigs \u001b[39m=\u001b[39m \u001b[39mlambda\u001b[39;00m x: x\u001b[39m.\u001b[39mhas(TrigonometricFunction)\n\u001b[1;32m   1143\u001b[0m tree \u001b[39m=\u001b[39m [identity,\n\u001b[1;32m   1144\u001b[0m     (\n\u001b[1;32m   1145\u001b[0m     TR3,  \u001b[39m# canonical angles\u001b[39;00m\n\u001b[0;32m   (...)\u001b[0m\n\u001b[1;32m   1178\u001b[0m         factor_terms, TR12(x), trigs)],  \u001b[39m# expand tan of sum\u001b[39;00m\n\u001b[1;32m   1179\u001b[0m     )]\n",
      "File \u001b[0;32m~/.local/lib/python3.10/site-packages/sympy/core/expr.py:1278\u001b[0m, in \u001b[0;36mExpr.count_ops\u001b[0;34m(self, visual)\u001b[0m\n\u001b[1;32m   1276\u001b[0m \u001b[39m\"\"\"wrapper for count_ops that returns the operation count.\"\"\"\u001b[39;00m\n\u001b[1;32m   1277\u001b[0m \u001b[39mfrom\u001b[39;00m \u001b[39m.\u001b[39;00m\u001b[39mfunction\u001b[39;00m \u001b[39mimport\u001b[39;00m count_ops\n\u001b[0;32m-> 1278\u001b[0m \u001b[39mreturn\u001b[39;00m count_ops(\u001b[39mself\u001b[39;49m, visual)\n",
      "File \u001b[0;32m~/.local/lib/python3.10/site-packages/sympy/core/function.py:3214\u001b[0m, in \u001b[0;36mcount_ops\u001b[0;34m(expr, visual)\u001b[0m\n\u001b[1;32m   3212\u001b[0m     o \u001b[39m=\u001b[39m Symbol(a\u001b[39m.\u001b[39mfunc\u001b[39m.\u001b[39m\u001b[39m__name__\u001b[39m\u001b[39m.\u001b[39mupper())\n\u001b[1;32m   3213\u001b[0m     \u001b[39m# count the args\u001b[39;00m\n\u001b[0;32m-> 3214\u001b[0m     ops\u001b[39m.\u001b[39mappend(o\u001b[39m*\u001b[39;49m(\u001b[39mlen\u001b[39;49m(a\u001b[39m.\u001b[39;49margs) \u001b[39m-\u001b[39;49m \u001b[39m1\u001b[39;49m))\n\u001b[1;32m   3215\u001b[0m \u001b[39melif\u001b[39;00m a\u001b[39m.\u001b[39margs \u001b[39mand\u001b[39;00m (\n\u001b[1;32m   3216\u001b[0m         a\u001b[39m.\u001b[39mis_Pow \u001b[39mor\u001b[39;00m\n\u001b[1;32m   3217\u001b[0m         a\u001b[39m.\u001b[39mis_Function \u001b[39mor\u001b[39;00m\n\u001b[0;32m   (...)\u001b[0m\n\u001b[1;32m   3222\u001b[0m     \u001b[39m# consider a.func something to count, e.g.\u001b[39;00m\n\u001b[1;32m   3223\u001b[0m     \u001b[39m# Tuple, MatrixSymbol, etc...\u001b[39;00m\n\u001b[1;32m   3224\u001b[0m     \u001b[39mif\u001b[39;00m \u001b[39misinstance\u001b[39m(a\u001b[39m.\u001b[39mfunc, UndefinedFunction):\n",
      "File \u001b[0;32m~/.local/lib/python3.10/site-packages/sympy/core/decorators.py:236\u001b[0m, in \u001b[0;36m_SympifyWrapper.make_wrapped.<locals>._func\u001b[0;34m(self, other)\u001b[0m\n\u001b[1;32m    234\u001b[0m \u001b[39mif\u001b[39;00m \u001b[39mnot\u001b[39;00m \u001b[39misinstance\u001b[39m(other, expectedcls):\n\u001b[1;32m    235\u001b[0m     \u001b[39mreturn\u001b[39;00m retval\n\u001b[0;32m--> 236\u001b[0m \u001b[39mreturn\u001b[39;00m func(\u001b[39mself\u001b[39;49m, other)\n",
      "File \u001b[0;32m~/.local/lib/python3.10/site-packages/sympy/core/decorators.py:106\u001b[0m, in \u001b[0;36mcall_highest_priority.<locals>.priority_decorator.<locals>.binary_op_wrapper\u001b[0;34m(self, other)\u001b[0m\n\u001b[1;32m    104\u001b[0m         \u001b[39mif\u001b[39;00m f \u001b[39mis\u001b[39;00m \u001b[39mnot\u001b[39;00m \u001b[39mNone\u001b[39;00m:\n\u001b[1;32m    105\u001b[0m             \u001b[39mreturn\u001b[39;00m f(\u001b[39mself\u001b[39m)\n\u001b[0;32m--> 106\u001b[0m \u001b[39mreturn\u001b[39;00m func(\u001b[39mself\u001b[39;49m, other)\n",
      "File \u001b[0;32m~/.local/lib/python3.10/site-packages/sympy/core/expr.py:218\u001b[0m, in \u001b[0;36mExpr.__mul__\u001b[0;34m(self, other)\u001b[0m\n\u001b[1;32m    215\u001b[0m \u001b[39m@sympify_return\u001b[39m([(\u001b[39m'\u001b[39m\u001b[39mother\u001b[39m\u001b[39m'\u001b[39m, \u001b[39m'\u001b[39m\u001b[39mExpr\u001b[39m\u001b[39m'\u001b[39m)], \u001b[39mNotImplemented\u001b[39m)\n\u001b[1;32m    216\u001b[0m \u001b[39m@call_highest_priority\u001b[39m(\u001b[39m'\u001b[39m\u001b[39m__rmul__\u001b[39m\u001b[39m'\u001b[39m)\n\u001b[1;32m    217\u001b[0m \u001b[39mdef\u001b[39;00m \u001b[39m__mul__\u001b[39m(\u001b[39mself\u001b[39m, other):\n\u001b[0;32m--> 218\u001b[0m     \u001b[39mreturn\u001b[39;00m Mul(\u001b[39mself\u001b[39;49m, other)\n",
      "File \u001b[0;32m~/.local/lib/python3.10/site-packages/sympy/core/cache.py:70\u001b[0m, in \u001b[0;36m__cacheit.<locals>.func_wrapper.<locals>.wrapper\u001b[0;34m(*args, **kwargs)\u001b[0m\n\u001b[1;32m     67\u001b[0m \u001b[39m@wraps\u001b[39m(func)\n\u001b[1;32m     68\u001b[0m \u001b[39mdef\u001b[39;00m \u001b[39mwrapper\u001b[39m(\u001b[39m*\u001b[39margs, \u001b[39m*\u001b[39m\u001b[39m*\u001b[39mkwargs):\n\u001b[1;32m     69\u001b[0m     \u001b[39mtry\u001b[39;00m:\n\u001b[0;32m---> 70\u001b[0m         retval \u001b[39m=\u001b[39m cfunc(\u001b[39m*\u001b[39;49margs, \u001b[39m*\u001b[39;49m\u001b[39m*\u001b[39;49mkwargs)\n\u001b[1;32m     71\u001b[0m     \u001b[39mexcept\u001b[39;00m \u001b[39mTypeError\u001b[39;00m \u001b[39mas\u001b[39;00m e:\n\u001b[1;32m     72\u001b[0m         \u001b[39mif\u001b[39;00m \u001b[39mnot\u001b[39;00m e\u001b[39m.\u001b[39margs \u001b[39mor\u001b[39;00m \u001b[39mnot\u001b[39;00m e\u001b[39m.\u001b[39margs[\u001b[39m0\u001b[39m]\u001b[39m.\u001b[39mstartswith(\u001b[39m'\u001b[39m\u001b[39munhashable type:\u001b[39m\u001b[39m'\u001b[39m):\n",
      "File \u001b[0;32m~/.local/lib/python3.10/site-packages/sympy/core/basic.py:153\u001b[0m, in \u001b[0;36mBasic.__hash__\u001b[0;34m(self)\u001b[0m\n\u001b[1;32m    150\u001b[0m         \u001b[39mraise\u001b[39;00m \u001b[39mNotImplementedError\u001b[39;00m(msg)\n\u001b[1;32m    151\u001b[0m     \u001b[39mreturn\u001b[39;00m \u001b[39msuper\u001b[39m()\u001b[39m.\u001b[39m__reduce_ex__(protocol)\n\u001b[0;32m--> 153\u001b[0m \u001b[39mdef\u001b[39;00m \u001b[39m__hash__\u001b[39m(\u001b[39mself\u001b[39m) \u001b[39m-\u001b[39m\u001b[39m>\u001b[39m \u001b[39mint\u001b[39m:\n\u001b[1;32m    154\u001b[0m     \u001b[39m# hash cannot be cached using cache_it because infinite recurrence\u001b[39;00m\n\u001b[1;32m    155\u001b[0m     \u001b[39m# occurs as hash is needed for setting cache dictionary keys\u001b[39;00m\n\u001b[1;32m    156\u001b[0m     h \u001b[39m=\u001b[39m \u001b[39mself\u001b[39m\u001b[39m.\u001b[39m_mhash\n\u001b[1;32m    157\u001b[0m     \u001b[39mif\u001b[39;00m h \u001b[39mis\u001b[39;00m \u001b[39mNone\u001b[39;00m:\n",
      "\u001b[0;31mKeyboardInterrupt\u001b[0m: "
     ]
    }
   ],
   "source": [
    "t = symbols(\"t\")\n",
    "V = (-2*9.8*t) - ((2**2)*9.8*(E**(-t/2))) + ((2**2)*9.8+6)\n",
    "solution = solve(V, t)[1]\n",
    "print(f\"The book his the ground at a time of {solution} after the book was released\")"
   ]
  },
  {
   "cell_type": "markdown",
   "id": "d4c7adb9",
   "metadata": {},
   "source": [
    "#### 2c"
   ]
  },
  {
   "cell_type": "code",
   "execution_count": 27,
   "id": "e20a3063",
   "metadata": {},
   "outputs": [
    {
     "name": "stdout",
     "output_type": "stream",
     "text": [
      "      6 |.........                                              \n",
      "        |         ......                                        \n",
      "        |               .....                                   \n",
      "        |                    ...                                \n",
      "        |                       ...                             \n",
      "        |                          ...                          \n",
      "        |                             ..                        \n",
      "        |                               ...                     \n",
      "        |                                  ..                   \n",
      "        |                                    ..                 \n",
      "    -16 |--------------------------------------..---------------\n",
      "        |                                        \\              \n",
      "        |                                         ..            \n",
      "        |                                           ..          \n",
      "        |                                             \\         \n",
      "        |                                              ..       \n",
      "        |                                                \\      \n",
      "        |                                                 ..    \n",
      "        |                                                   \\   \n",
      "        |                                                    .. \n",
      "    -38 |_______________________________________________________\n",
      "         0                          1.5                        3\n",
      "      6 |........                                               \n",
      "        |        .....                                          \n",
      "        |             ....                                      \n",
      "        |                 ...                                   \n",
      "        |                    ...                                \n",
      "        |                       ...                             \n",
      "        |                          ..                           \n",
      "        |                            ..                         \n",
      "        |                              ...                      \n",
      "        |                                 ..                    \n",
      "     -8 |-----------------------------------..------------------\n",
      "        |                                     ..                \n",
      "        |                                       ..              \n",
      "        |                                         ..            \n",
      "        |                                           ..          \n",
      "        |                                             \\         \n",
      "        |                                              ..       \n",
      "        |                                                ..     \n",
      "        |                                                  ..   \n",
      "        |                                                    \\  \n",
      "    -22 |_______________________________________________________\n",
      "         0                          1.5                        3\n"
     ]
    },
    {
     "data": {
      "text/plain": [
       "<sympy.plotting.plot.Plot at 0x7fad1315e650>"
      ]
     },
     "execution_count": 27,
     "metadata": {},
     "output_type": "execute_result"
    }
   ],
   "source": [
    "V = ((-0.5)*(9.8)*(t**2))+6\n",
    "G = (-2*9.8*t) - ((2**2)*9.8*(E**(-t/2))) + ((2**2)*9.8+6)\n",
    "\n",
    "plot(V,(t,0,3))\n",
    "plot(G,(t,0,3))"
   ]
  },
  {
   "cell_type": "markdown",
   "id": "1fb8b9b8",
   "metadata": {},
   "source": [
    "### Question 3"
   ]
  },
  {
   "cell_type": "markdown",
   "id": "ccffd0d0",
   "metadata": {},
   "source": [
    "#### 3a"
   ]
  },
  {
   "cell_type": "code",
   "execution_count": 28,
   "id": "9ebb9309",
   "metadata": {},
   "outputs": [
    {
     "ename": "ValueError",
     "evalue": "The TextBackend supports only expressions over a 1D range",
     "output_type": "error",
     "traceback": [
      "\u001b[0;31m---------------------------------------------------------------------------\u001b[0m",
      "\u001b[0;31mValueError\u001b[0m                                Traceback (most recent call last)",
      "\u001b[1;32m/home/sumitn/code/FreshmanEngineering/MATH151/Lab2.ipynb Cell 22\u001b[0m in \u001b[0;36m<cell line: 2>\u001b[0;34m()\u001b[0m\n\u001b[1;32m      <a href='vscode-notebook-cell://wsl%2Bubuntu-22.04/home/sumitn/code/FreshmanEngineering/MATH151/Lab2.ipynb#X30sdnNjb2RlLXJlbW90ZQ%3D%3D?line=0'>1</a>\u001b[0m t \u001b[39m=\u001b[39m symbols(\u001b[39m'\u001b[39m\u001b[39mt\u001b[39m\u001b[39m'\u001b[39m)\n\u001b[0;32m----> <a href='vscode-notebook-cell://wsl%2Bubuntu-22.04/home/sumitn/code/FreshmanEngineering/MATH151/Lab2.ipynb#X30sdnNjb2RlLXJlbW90ZQ%3D%3D?line=1'>2</a>\u001b[0m plot_parametric((sin(\u001b[39m2\u001b[39;49m\u001b[39m*\u001b[39;49mt), cos(t)))\n\u001b[1;32m      <a href='vscode-notebook-cell://wsl%2Bubuntu-22.04/home/sumitn/code/FreshmanEngineering/MATH151/Lab2.ipynb#X30sdnNjb2RlLXJlbW90ZQ%3D%3D?line=2'>3</a>\u001b[0m plot_parametric((\u001b[39m3\u001b[39m \u001b[39m*\u001b[39m sin(\u001b[39m2\u001b[39m\u001b[39m*\u001b[39mt), cos(t)))\n\u001b[1;32m      <a href='vscode-notebook-cell://wsl%2Bubuntu-22.04/home/sumitn/code/FreshmanEngineering/MATH151/Lab2.ipynb#X30sdnNjb2RlLXJlbW90ZQ%3D%3D?line=3'>4</a>\u001b[0m plot_parametric((sin(\u001b[39m3\u001b[39m\u001b[39m*\u001b[39mt), \u001b[39m2\u001b[39m \u001b[39m*\u001b[39m cos(t)))\n",
      "File \u001b[0;32m~/.local/lib/python3.10/site-packages/sympy/plotting/plot.py:2064\u001b[0m, in \u001b[0;36mplot_parametric\u001b[0;34m(show, *args, **kwargs)\u001b[0m\n\u001b[1;32m   2062\u001b[0m plots \u001b[39m=\u001b[39m Plot(\u001b[39m*\u001b[39mseries, \u001b[39m*\u001b[39m\u001b[39m*\u001b[39mkwargs)\n\u001b[1;32m   2063\u001b[0m \u001b[39mif\u001b[39;00m show:\n\u001b[0;32m-> 2064\u001b[0m     plots\u001b[39m.\u001b[39;49mshow()\n\u001b[1;32m   2065\u001b[0m \u001b[39mreturn\u001b[39;00m plots\n",
      "File \u001b[0;32m~/.local/lib/python3.10/site-packages/sympy/plotting/plot.py:251\u001b[0m, in \u001b[0;36mPlot.show\u001b[0;34m(self)\u001b[0m\n\u001b[1;32m    249\u001b[0m     \u001b[39mself\u001b[39m\u001b[39m.\u001b[39m_backend\u001b[39m.\u001b[39mclose()\n\u001b[1;32m    250\u001b[0m \u001b[39mself\u001b[39m\u001b[39m.\u001b[39m_backend \u001b[39m=\u001b[39m \u001b[39mself\u001b[39m\u001b[39m.\u001b[39mbackend(\u001b[39mself\u001b[39m)\n\u001b[0;32m--> 251\u001b[0m \u001b[39mself\u001b[39;49m\u001b[39m.\u001b[39;49m_backend\u001b[39m.\u001b[39;49mshow()\n",
      "File \u001b[0;32m~/.local/lib/python3.10/site-packages/sympy/plotting/plot.py:1578\u001b[0m, in \u001b[0;36mTextBackend.show\u001b[0;34m(self)\u001b[0m\n\u001b[1;32m   1575\u001b[0m     \u001b[39mraise\u001b[39;00m \u001b[39mValueError\u001b[39;00m(\n\u001b[1;32m   1576\u001b[0m         \u001b[39m'\u001b[39m\u001b[39mThe TextBackend supports only one graph per Plot.\u001b[39m\u001b[39m'\u001b[39m)\n\u001b[1;32m   1577\u001b[0m \u001b[39melif\u001b[39;00m \u001b[39mnot\u001b[39;00m \u001b[39misinstance\u001b[39m(\u001b[39mself\u001b[39m\u001b[39m.\u001b[39mparent\u001b[39m.\u001b[39m_series[\u001b[39m0\u001b[39m], LineOver1DRangeSeries):\n\u001b[0;32m-> 1578\u001b[0m     \u001b[39mraise\u001b[39;00m \u001b[39mValueError\u001b[39;00m(\n\u001b[1;32m   1579\u001b[0m         \u001b[39m'\u001b[39m\u001b[39mThe TextBackend supports only expressions over a 1D range\u001b[39m\u001b[39m'\u001b[39m)\n\u001b[1;32m   1580\u001b[0m \u001b[39melse\u001b[39;00m:\n\u001b[1;32m   1581\u001b[0m     ser \u001b[39m=\u001b[39m \u001b[39mself\u001b[39m\u001b[39m.\u001b[39mparent\u001b[39m.\u001b[39m_series[\u001b[39m0\u001b[39m]\n",
      "\u001b[0;31mValueError\u001b[0m: The TextBackend supports only expressions over a 1D range"
     ]
    }
   ],
   "source": [
    "t = symbols('t')\n",
    "\n",
    "f = (sin(2*t), cos(t))\n",
    "g = (3 * sin(2*t), cos(t))\n",
    "h = (sin(3*t), 2 * cos(t))\n",
    "plot_parametric(f,g,h)"
   ]
  },
  {
   "cell_type": "markdown",
   "id": "baa2be1a",
   "metadata": {},
   "source": [
    "#### 3b"
   ]
  },
  {
   "cell_type": "code",
   "execution_count": 29,
   "id": "6c67d267",
   "metadata": {},
   "outputs": [
    {
     "ename": "ValueError",
     "evalue": "The TextBackend supports only one graph per Plot.",
     "output_type": "error",
     "traceback": [
      "\u001b[0;31m---------------------------------------------------------------------------\u001b[0m",
      "\u001b[0;31mValueError\u001b[0m                                Traceback (most recent call last)",
      "\u001b[1;32m/home/sumitn/code/FreshmanEngineering/MATH151/Lab2.ipynb Cell 24\u001b[0m in \u001b[0;36m<cell line: 6>\u001b[0;34m()\u001b[0m\n\u001b[1;32m      <a href='vscode-notebook-cell://wsl%2Bubuntu-22.04/home/sumitn/code/FreshmanEngineering/MATH151/Lab2.ipynb#X32sdnNjb2RlLXJlbW90ZQ%3D%3D?line=3'>4</a>\u001b[0m g \u001b[39m=\u001b[39m (\u001b[39m3\u001b[39m \u001b[39m*\u001b[39m sin(\u001b[39m2\u001b[39m\u001b[39m*\u001b[39mt), cos(t))\n\u001b[1;32m      <a href='vscode-notebook-cell://wsl%2Bubuntu-22.04/home/sumitn/code/FreshmanEngineering/MATH151/Lab2.ipynb#X32sdnNjb2RlLXJlbW90ZQ%3D%3D?line=4'>5</a>\u001b[0m h \u001b[39m=\u001b[39m (sin(\u001b[39m3\u001b[39m\u001b[39m*\u001b[39mt), \u001b[39m2\u001b[39m \u001b[39m*\u001b[39m cos(t))\n\u001b[0;32m----> <a href='vscode-notebook-cell://wsl%2Bubuntu-22.04/home/sumitn/code/FreshmanEngineering/MATH151/Lab2.ipynb#X32sdnNjb2RlLXJlbW90ZQ%3D%3D?line=5'>6</a>\u001b[0m plot_parametric(f,g,h)\n\u001b[1;32m      <a href='vscode-notebook-cell://wsl%2Bubuntu-22.04/home/sumitn/code/FreshmanEngineering/MATH151/Lab2.ipynb#X32sdnNjb2RlLXJlbW90ZQ%3D%3D?line=7'>8</a>\u001b[0m \u001b[39mprint\u001b[39m(\u001b[39m\"\u001b[39m\u001b[39mWhen changing a, the minimum and maximum x-values of that plot appear to change\u001b[39m\u001b[39m\"\u001b[39m)\n\u001b[1;32m      <a href='vscode-notebook-cell://wsl%2Bubuntu-22.04/home/sumitn/code/FreshmanEngineering/MATH151/Lab2.ipynb#X32sdnNjb2RlLXJlbW90ZQ%3D%3D?line=8'>9</a>\u001b[0m \u001b[39mprint\u001b[39m(\u001b[39m\"\u001b[39m\u001b[39mWhen changing b, the minimum and maximum y-values of that plot appear to change\u001b[39m\u001b[39m\"\u001b[39m)\n",
      "File \u001b[0;32m~/.local/lib/python3.10/site-packages/sympy/plotting/plot.py:2064\u001b[0m, in \u001b[0;36mplot_parametric\u001b[0;34m(show, *args, **kwargs)\u001b[0m\n\u001b[1;32m   2062\u001b[0m plots \u001b[39m=\u001b[39m Plot(\u001b[39m*\u001b[39mseries, \u001b[39m*\u001b[39m\u001b[39m*\u001b[39mkwargs)\n\u001b[1;32m   2063\u001b[0m \u001b[39mif\u001b[39;00m show:\n\u001b[0;32m-> 2064\u001b[0m     plots\u001b[39m.\u001b[39;49mshow()\n\u001b[1;32m   2065\u001b[0m \u001b[39mreturn\u001b[39;00m plots\n",
      "File \u001b[0;32m~/.local/lib/python3.10/site-packages/sympy/plotting/plot.py:251\u001b[0m, in \u001b[0;36mPlot.show\u001b[0;34m(self)\u001b[0m\n\u001b[1;32m    249\u001b[0m     \u001b[39mself\u001b[39m\u001b[39m.\u001b[39m_backend\u001b[39m.\u001b[39mclose()\n\u001b[1;32m    250\u001b[0m \u001b[39mself\u001b[39m\u001b[39m.\u001b[39m_backend \u001b[39m=\u001b[39m \u001b[39mself\u001b[39m\u001b[39m.\u001b[39mbackend(\u001b[39mself\u001b[39m)\n\u001b[0;32m--> 251\u001b[0m \u001b[39mself\u001b[39;49m\u001b[39m.\u001b[39;49m_backend\u001b[39m.\u001b[39;49mshow()\n",
      "File \u001b[0;32m~/.local/lib/python3.10/site-packages/sympy/plotting/plot.py:1575\u001b[0m, in \u001b[0;36mTextBackend.show\u001b[0;34m(self)\u001b[0m\n\u001b[1;32m   1573\u001b[0m     \u001b[39mreturn\u001b[39;00m\n\u001b[1;32m   1574\u001b[0m \u001b[39mif\u001b[39;00m \u001b[39mlen\u001b[39m(\u001b[39mself\u001b[39m\u001b[39m.\u001b[39mparent\u001b[39m.\u001b[39m_series) \u001b[39m!=\u001b[39m \u001b[39m1\u001b[39m:\n\u001b[0;32m-> 1575\u001b[0m     \u001b[39mraise\u001b[39;00m \u001b[39mValueError\u001b[39;00m(\n\u001b[1;32m   1576\u001b[0m         \u001b[39m'\u001b[39m\u001b[39mThe TextBackend supports only one graph per Plot.\u001b[39m\u001b[39m'\u001b[39m)\n\u001b[1;32m   1577\u001b[0m \u001b[39melif\u001b[39;00m \u001b[39mnot\u001b[39;00m \u001b[39misinstance\u001b[39m(\u001b[39mself\u001b[39m\u001b[39m.\u001b[39mparent\u001b[39m.\u001b[39m_series[\u001b[39m0\u001b[39m], LineOver1DRangeSeries):\n\u001b[1;32m   1578\u001b[0m     \u001b[39mraise\u001b[39;00m \u001b[39mValueError\u001b[39;00m(\n\u001b[1;32m   1579\u001b[0m         \u001b[39m'\u001b[39m\u001b[39mThe TextBackend supports only expressions over a 1D range\u001b[39m\u001b[39m'\u001b[39m)\n",
      "\u001b[0;31mValueError\u001b[0m: The TextBackend supports only one graph per Plot."
     ]
    }
   ],
   "source": [
    "print(\"When changing a, the width(minimum and maximum x-values) of the Lissajous figures appear to change\")\n",
    "print(\"When changing b, the height(minimum and maximum y-values) of the Lissajous figures appear to change\")\n",
    "print(\"When changing n, to plot appears to oscillate n times\")"
   ]
  }
 ],
 "metadata": {
  "kernelspec": {
   "display_name": "Python 3.10.4 64-bit",
   "language": "python",
   "name": "python3"
  },
  "language_info": {
   "codemirror_mode": {
    "name": "ipython",
    "version": 3
   },
   "file_extension": ".py",
   "mimetype": "text/x-python",
   "name": "python",
   "nbconvert_exporter": "python",
   "pygments_lexer": "ipython3",
   "version": "3.10.4"
  },
  "vscode": {
   "interpreter": {
    "hash": "916dbcbb3f70747c44a77c7bcd40155683ae19c65e1c03b4aa3499c5328201f1"
   }
  }
 },
 "nbformat": 4,
 "nbformat_minor": 5
}

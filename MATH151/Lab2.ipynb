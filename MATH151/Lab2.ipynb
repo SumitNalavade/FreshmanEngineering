{
 "cells": [
  {
   "cell_type": "markdown",
   "id": "20c00fa5",
   "metadata": {},
   "source": [
    "## MATH 151 Lab  2"
   ]
  },
  {
   "cell_type": "markdown",
   "id": "7c243ef1",
   "metadata": {},
   "source": [
    "Put team members' names and section number here."
   ]
  },
  {
   "cell_type": "code",
   "execution_count": 1,
   "id": "cf836732",
   "metadata": {},
   "outputs": [],
   "source": [
    "from sympy import *\n",
    "from sympy.plotting import (plot,plot_parametric)"
   ]
  },
  {
   "cell_type": "markdown",
   "id": "3169990f",
   "metadata": {},
   "source": [
    "### Question 1"
   ]
  },
  {
   "cell_type": "markdown",
   "id": "f0561a86",
   "metadata": {},
   "source": [
    "#### 1a"
   ]
  },
  {
   "cell_type": "code",
   "execution_count": 11,
   "id": "cbfab3f6",
   "metadata": {},
   "outputs": [
    {
     "name": "stdout",
     "output_type": "stream",
     "text": [
      "The values of x for which f(x)=0 are [-3/2 - sqrt(5)/2, -3/2 + sqrt(5)/2]\n"
     ]
    }
   ],
   "source": [
    "x = symbols(\"x\")\n",
    "V = 1 + x * (x + 1) * (x + 2) * (x +3)\n",
    "solutions = solve(V, x)\n",
    "print(f\"The values of x for which f(x)=0 are {solutions}\")"
   ]
  },
  {
   "cell_type": "markdown",
   "id": "efdd616f",
   "metadata": {},
   "source": [
    "#### 1b"
   ]
  },
  {
   "cell_type": "code",
   "execution_count": 4,
   "id": "6fd5ac31",
   "metadata": {},
   "outputs": [
    {
     "name": "stdout",
     "output_type": "stream",
     "text": [
      "The expanded form of the polynomial is x**4 + 6*x**3 + 11*x**2 + 6*x + 1\n"
     ]
    }
   ],
   "source": [
    "x = symbols(\"x\")\n",
    "V = 1 + x * (x + 1) * (x + 2) * (x +3)\n",
    "print(f\"An expanded expression of the polynomial is {V.expand()}\")"
   ]
  },
  {
   "cell_type": "markdown",
   "id": "b4d3d3ac",
   "metadata": {},
   "source": [
    "#### 1c"
   ]
  },
  {
   "cell_type": "code",
   "execution_count": 6,
   "id": "a08b7797",
   "metadata": {},
   "outputs": [
    {
     "name": "stdout",
     "output_type": "stream",
     "text": [
      "A factored expression of the polynomial is (x**2 + 3*x + 1)**2\n"
     ]
    }
   ],
   "source": [
    "x = symbols(\"x\")\n",
    "V = 1 + x * (x + 1) * (x + 2) * (x +3)\n",
    "print(f\"A factored expression of the polynomial is {V.factor()}\")"
   ]
  },
  {
   "cell_type": "markdown",
   "id": "8111d61d",
   "metadata": {},
   "source": [
    "#### 1d"
   ]
  },
  {
   "cell_type": "code",
   "execution_count": 24,
   "id": "afbad488",
   "metadata": {},
   "outputs": [
    {
     "name": "stdout",
     "output_type": "stream",
     "text": [
      "    120 |.                                                      \n",
      "        |                                                       \n",
      "        |                                                       \n",
      "        | .                                                     \n",
      "        |                                                       \n",
      "        |  .                                                    \n",
      "        |                                                       \n",
      "        |   .                                                   \n",
      "        |                                                       \n",
      "        |    .                                                  \n",
      "     60 |-------------------------------------------------------\n",
      "        |     .                                                 \n",
      "        |      .                                                \n",
      "        |                                                       \n",
      "        |       .                                               \n",
      "        |        \\                                              \n",
      "        |         \\                                            /\n",
      "        |          ..                                        .. \n",
      "        |            \\                                      /   \n",
      "        |             ...                                ...    \n",
      "      0 |_______________________________________________________\n",
      "         -5                         -2                         1\n"
     ]
    },
    {
     "data": {
      "text/plain": [
       "<sympy.plotting.plot.Plot at 0x7fb466cd2710>"
      ]
     },
     "execution_count": 24,
     "metadata": {},
     "output_type": "execute_result"
    }
   ],
   "source": [
    "V = 1 + x * (x + 1) * (x + 2) * (x +3)\n",
    "plot(V,(x,-5,1))"
   ]
  },
  {
   "cell_type": "markdown",
   "id": "8b00f000",
   "metadata": {},
   "source": [
    "### Question 2"
   ]
  },
  {
   "cell_type": "markdown",
   "id": "bacdc1db",
   "metadata": {},
   "source": [
    "#### 2a"
   ]
  },
  {
   "cell_type": "code",
   "execution_count": null,
   "id": "be2f2c71",
   "metadata": {},
   "outputs": [],
   "source": [
    "#start code here"
   ]
  },
  {
   "cell_type": "markdown",
   "id": "23bc68a6",
   "metadata": {},
   "source": [
    "#### 2b"
   ]
  },
  {
   "cell_type": "code",
   "execution_count": null,
   "id": "357bbf0f",
   "metadata": {},
   "outputs": [],
   "source": [
    "#start code here"
   ]
  },
  {
   "cell_type": "markdown",
   "id": "d4c7adb9",
   "metadata": {},
   "source": [
    "#### 2c"
   ]
  },
  {
   "cell_type": "code",
   "execution_count": null,
   "id": "e20a3063",
   "metadata": {},
   "outputs": [],
   "source": [
    "#start code here"
   ]
  },
  {
   "cell_type": "markdown",
   "id": "1fb8b9b8",
   "metadata": {},
   "source": [
    "### Question 3"
   ]
  },
  {
   "cell_type": "markdown",
   "id": "ccffd0d0",
   "metadata": {},
   "source": [
    "#### 3a"
   ]
  },
  {
   "cell_type": "code",
   "execution_count": null,
   "id": "9ebb9309",
   "metadata": {},
   "outputs": [],
   "source": [
    "#start code here"
   ]
  },
  {
   "cell_type": "markdown",
   "id": "baa2be1a",
   "metadata": {},
   "source": [
    "#### 3b"
   ]
  },
  {
   "cell_type": "code",
   "execution_count": null,
   "id": "6c67d267",
   "metadata": {},
   "outputs": [],
   "source": [
    "#start code here"
   ]
  }
 ],
 "metadata": {
  "kernelspec": {
   "display_name": "Python 3.10.4 64-bit",
   "language": "python",
   "name": "python3"
  },
  "language_info": {
   "codemirror_mode": {
    "name": "ipython",
    "version": 3
   },
   "file_extension": ".py",
   "mimetype": "text/x-python",
   "name": "python",
   "nbconvert_exporter": "python",
   "pygments_lexer": "ipython3",
   "version": "3.10.4"
  },
  "vscode": {
   "interpreter": {
    "hash": "916dbcbb3f70747c44a77c7bcd40155683ae19c65e1c03b4aa3499c5328201f1"
   }
  }
 },
 "nbformat": 4,
 "nbformat_minor": 5
}

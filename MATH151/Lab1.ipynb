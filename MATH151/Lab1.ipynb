{
 "cells": [
  {
   "cell_type": "markdown",
   "id": "20c00fa5",
   "metadata": {},
   "source": [
    "## MATH 151 Lab  1"
   ]
  },
  {
   "cell_type": "markdown",
   "id": "7c243ef1",
   "metadata": {},
   "source": [
    "Sumit Nalavade, Michael Perez, Ronit Dhawan, Charlie McLaughlin"
   ]
  },
  {
   "cell_type": "code",
   "execution_count": 5,
   "id": "cf836732",
   "metadata": {},
   "outputs": [],
   "source": [
    "from sympy import *\n",
    "from sympy.plotting import (plot,plot_parametric)"
   ]
  },
  {
   "cell_type": "markdown",
   "id": "3169990f",
   "metadata": {},
   "source": [
    "### Question 1"
   ]
  },
  {
   "cell_type": "markdown",
   "id": "f0561a86",
   "metadata": {},
   "source": [
    "#### 1a"
   ]
  },
  {
   "cell_type": "code",
   "execution_count": 12,
   "id": "cbfab3f6",
   "metadata": {},
   "outputs": [
    {
     "data": {
      "text/latex": [
       "$\\displaystyle 5.29251613828432$"
      ],
      "text/plain": [
       "5.29251613828432"
      ]
     },
     "execution_count": 12,
     "metadata": {},
     "output_type": "execute_result"
    }
   ],
   "source": [
    "(79 * ((exp(1.29) + (11.1 ** 2)))) / (2026 - (5.1**3))"
   ]
  },
  {
   "cell_type": "markdown",
   "id": "efdd616f",
   "metadata": {},
   "source": [
    "#### 1b"
   ]
  },
  {
   "cell_type": "code",
   "execution_count": 9,
   "id": "6fd5ac31",
   "metadata": {},
   "outputs": [
    {
     "data": {
      "text/latex": [
       "$\\displaystyle \\frac{- \\frac{\\sqrt{6}}{4} - \\frac{\\sqrt{2}}{4}}{- \\frac{\\sqrt{2}}{4} + \\frac{\\sqrt{6}}{4}} - 2 - \\sqrt{3}$"
      ],
      "text/plain": [
       "(-sqrt(6)/4 - sqrt(2)/4)/(-sqrt(2)/4 + sqrt(6)/4) - 2 - sqrt(3)"
      ]
     },
     "execution_count": 9,
     "metadata": {},
     "output_type": "execute_result"
    }
   ],
   "source": [
    "cos((11 * pi) / 12) * sec((75 * pi) / 180) + tan((7 * pi) / 12)"
   ]
  },
  {
   "cell_type": "markdown",
   "id": "8b00f000",
   "metadata": {},
   "source": [
    "### Question 2"
   ]
  },
  {
   "cell_type": "markdown",
   "id": "bacdc1db",
   "metadata": {},
   "source": [
    "#### 2a"
   ]
  },
  {
   "cell_type": "code",
   "execution_count": 35,
   "id": "be2f2c71",
   "metadata": {},
   "outputs": [
    {
     "name": "stdout",
     "output_type": "stream",
     "text": [
      "-sqrt(26)*I/6\n",
      "-sqrt(2501)*I/51\n",
      "-sqrt(250000000001)*I/500001\n"
     ]
    }
   ],
   "source": [
    "print(sqrt((-10 ** 2) - 4)/(-10 -2))\n",
    "\n",
    "print(sqrt((-100 ** 2) - 4)/(-100 -2))\n",
    "\n",
    "print(sqrt((-1000000 ** 2) - 4)/(-1000000 -2))"
   ]
  },
  {
   "cell_type": "markdown",
   "id": "23bc68a6",
   "metadata": {},
   "source": [
    "#### 2b"
   ]
  },
  {
   "cell_type": "code",
   "execution_count": 8,
   "id": "357bbf0f",
   "metadata": {},
   "outputs": [
    {
     "name": "stdout",
     "output_type": "stream",
     "text": [
      "20.0249843945009\n",
      "200.002499984149\n",
      "2000.00024988243\n"
     ]
    }
   ],
   "source": [
    "print(sqrt((2.01 ** 2) - 4)/(2.01 -2))\n",
    "print(sqrt((2.0001 ** 2) - 4)/(2.0001 -2))\n",
    "print(sqrt((2.000001 ** 2) - 4)/(2.000001 -2))"
   ]
  },
  {
   "cell_type": "markdown",
   "id": "d4c7adb9",
   "metadata": {},
   "source": [
    "#### 2c"
   ]
  },
  {
   "cell_type": "markdown",
   "id": "e20a3063",
   "metadata": {},
   "source": [
    "The y-values of f get smaller and smaller"
   ]
  },
  {
   "cell_type": "markdown",
   "id": "1ef4d714",
   "metadata": {},
   "source": [
    "#### 2d"
   ]
  },
  {
   "cell_type": "markdown",
   "id": "4e7b3b96",
   "metadata": {},
   "source": [
    "The y-values of f get larger and larger when x gets close to two from the right"
   ]
  },
  {
   "cell_type": "markdown",
   "id": "1fb8b9b8",
   "metadata": {},
   "source": [
    "### Question 3"
   ]
  },
  {
   "cell_type": "markdown",
   "id": "ccffd0d0",
   "metadata": {},
   "source": [
    "#### 3a"
   ]
  },
  {
   "cell_type": "code",
   "execution_count": null,
   "id": "9ebb9309",
   "metadata": {},
   "outputs": [],
   "source": [
    "#start code here"
   ]
  },
  {
   "cell_type": "markdown",
   "id": "baa2be1a",
   "metadata": {},
   "source": [
    "#### 3b"
   ]
  },
  {
   "cell_type": "code",
   "execution_count": null,
   "id": "6c67d267",
   "metadata": {},
   "outputs": [],
   "source": [
    "#start code here"
   ]
  }
 ],
 "metadata": {
  "kernelspec": {
   "display_name": "Python 3.10.4 64-bit",
   "language": "python",
   "name": "python3"
  },
  "language_info": {
   "codemirror_mode": {
    "name": "ipython",
    "version": 3
   },
   "file_extension": ".py",
   "mimetype": "text/x-python",
   "name": "python",
   "nbconvert_exporter": "python",
   "pygments_lexer": "ipython3",
   "version": "3.10.4"
  },
  "vscode": {
   "interpreter": {
    "hash": "916dbcbb3f70747c44a77c7bcd40155683ae19c65e1c03b4aa3499c5328201f1"
   }
  }
 },
 "nbformat": 4,
 "nbformat_minor": 5
}

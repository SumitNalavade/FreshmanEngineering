{
 "cells": [
  {
   "cell_type": "markdown",
   "id": "20c00fa5",
   "metadata": {},
   "source": [
    "## MATH 151 Lab  1"
   ]
  },
  {
   "cell_type": "markdown",
   "id": "7c243ef1",
   "metadata": {},
   "source": [
    "Sumit Nalavade, Michael Perez, Ronit Dhawan, Charlie McLaughlin"
   ]
  },
  {
   "cell_type": "code",
   "execution_count": 1,
   "id": "cf836732",
   "metadata": {},
   "outputs": [],
   "source": [
    "from sympy import *\n",
    "from sympy.plotting import (plot,plot_parametric)"
   ]
  },
  {
   "cell_type": "markdown",
   "id": "3169990f",
   "metadata": {},
   "source": [
    "### Question 1"
   ]
  },
  {
   "cell_type": "markdown",
   "id": "f0561a86",
   "metadata": {},
   "source": [
    "#### 1a"
   ]
  },
  {
   "cell_type": "code",
   "execution_count": 8,
   "id": "cbfab3f6",
   "metadata": {},
   "outputs": [
    {
     "name": "stdout",
     "output_type": "stream",
     "text": [
      "5.29251613828432\n"
     ]
    }
   ],
   "source": [
    "print((79 * ((exp(1.29) + (11.1 ** 2)))) / (2026 - (5.1**3)))"
   ]
  },
  {
   "cell_type": "markdown",
   "id": "efdd616f",
   "metadata": {},
   "source": [
    "#### 1b"
   ]
  },
  {
   "cell_type": "code",
   "execution_count": 10,
   "id": "6fd5ac31",
   "metadata": {},
   "outputs": [
    {
     "name": "stdout",
     "output_type": "stream",
     "text": [
      "-7.46410161513775\n"
     ]
    },
    {
     "data": {
      "text/latex": [
       "$\\displaystyle \\frac{- \\frac{\\sqrt{6}}{4} - \\frac{\\sqrt{2}}{4}}{- \\frac{\\sqrt{2}}{4} + \\frac{\\sqrt{6}}{4}} - 2 - \\sqrt{3}$"
      ],
      "text/plain": [
       "(-sqrt(6)/4 - sqrt(2)/4)/(-sqrt(2)/4 + sqrt(6)/4) - 2 - sqrt(3)"
      ]
     },
     "execution_count": 10,
     "metadata": {},
     "output_type": "execute_result"
    }
   ],
   "source": [
    "print((cos((11 * pi) / 12) * sec((75 * pi) / 180) + tan((7 * pi) / 12)).evalf())\n",
    "\n",
    "(cos((11 * pi) / 12) * sec((75 * pi) / 180) + tan((7 * pi) / 12))"
   ]
  },
  {
   "cell_type": "markdown",
   "id": "8b00f000",
   "metadata": {},
   "source": [
    "### Question 2"
   ]
  },
  {
   "cell_type": "markdown",
   "id": "bacdc1db",
   "metadata": {},
   "source": [
    "#### 2a"
   ]
  },
  {
   "cell_type": "code",
   "execution_count": 10,
   "id": "be2f2c71",
   "metadata": {},
   "outputs": [
    {
     "name": "stdout",
     "output_type": "stream",
     "text": [
      "The value of f(-10) is -sqrt(6)/3\n",
      "The value of f(-100) is -7*sqrt(51)/51\n",
      "The value of f(-1000000) is -127*sqrt(15500031)/500001\n"
     ]
    }
   ],
   "source": [
    "x = sqrt(((-10) ** 2) - 4)/(-10-2)\n",
    "print(\"The value of f(-10) is\", x)\n",
    "\n",
    "x = sqrt(((-100) ** 2) - 4)/(-100-2)\n",
    "print(\"The value of f(-100) is\", x)\n",
    "\n",
    "x = sqrt(((-1000000) ** 2) - 4)/(-1000000-2)\n",
    "print(\"The value of f(-1000000) is\", x)"
   ]
  },
  {
   "cell_type": "markdown",
   "id": "23bc68a6",
   "metadata": {},
   "source": [
    "#### 2b"
   ]
  },
  {
   "cell_type": "code",
   "execution_count": 26,
   "id": "357bbf0f",
   "metadata": {},
   "outputs": [
    {
     "name": "stdout",
     "output_type": "stream",
     "text": [
      "The value of f(2.01) is 20.0249843945009\n",
      "The value of f(2.001) is 200.002499984149\n",
      "The value of f(2.000001) is 2000.00024988243\n"
     ]
    }
   ],
   "source": [
    "x = sqrt((2.01 ** 2) - 4)/(2.01 -2)\n",
    "print(\"The value of f(2.01) is\", x)\n",
    "\n",
    "x = sqrt((2.0001 ** 2) - 4)/(2.0001 -2)\n",
    "print(\"The value of f(2.001) is\", x)\n",
    "\n",
    "x = sqrt((2.000001 ** 2) - 4)/(2.000001 -2)\n",
    "print(\"The value of f(2.000001) is\", x)"
   ]
  },
  {
   "cell_type": "markdown",
   "id": "d4c7adb9",
   "metadata": {},
   "source": [
    "#### 2c"
   ]
  },
  {
   "cell_type": "markdown",
   "id": "e20a3063",
   "metadata": {},
   "source": [
    "The y-values of f get smaller and smaller when x gets really large in the negative direction"
   ]
  },
  {
   "cell_type": "markdown",
   "id": "1ef4d714",
   "metadata": {},
   "source": [
    "#### 2d"
   ]
  },
  {
   "cell_type": "markdown",
   "id": "4e7b3b96",
   "metadata": {},
   "source": [
    "The y-values of f get larger and larger when x gets close to two from the right"
   ]
  },
  {
   "cell_type": "markdown",
   "id": "1fb8b9b8",
   "metadata": {},
   "source": [
    "### Question 3"
   ]
  },
  {
   "cell_type": "markdown",
   "id": "ccffd0d0",
   "metadata": {},
   "source": [
    "#### 3a"
   ]
  },
  {
   "cell_type": "code",
   "execution_count": 28,
   "id": "9ebb9309",
   "metadata": {},
   "outputs": [
    {
     "name": "stdout",
     "output_type": "stream",
     "text": [
      "No, the ball will not clear the wall and he will not hit a home run because the the maximum height the ball will reach is -669124/(4225*cos(13*pi/90)**2) + 3 + 409*tan(13*pi/90) ft, which is less than the wall's height of 10ft\n"
     ]
    }
   ],
   "source": [
    "displacement = 409\n",
    "velocity = 130\n",
    "degreeAngle = 26\n",
    "initialHeight = 3\n",
    "\n",
    "radianAngle = (degreeAngle * pi)/180\n",
    "\n",
    "ballHeight = (((-16) / ((velocity**2)*(cos(radianAngle)**2))) * (displacement ** 2) + tan(radianAngle) * displacement + initialHeight)\n",
    "\n",
    "print(\"No, the ball will not clear the wall and he will not hit a home run because the the maximum height the ball will reach is\", ballHeight, \"ft, which is less than the wall's height of 10ft\")"
   ]
  },
  {
   "cell_type": "markdown",
   "id": "baa2be1a",
   "metadata": {},
   "source": [
    "#### 3b"
   ]
  },
  {
   "cell_type": "code",
   "execution_count": 34,
   "id": "6c67d267",
   "metadata": {},
   "outputs": [
    {
     "name": "stdout",
     "output_type": "stream",
     "text": [
      "Luka Doncic released the ball at a height of -15*tan(0.301111111111111*pi) + 10 + 25/(4*cos(0.301111111111111*pi)**2) ft\n"
     ]
    }
   ],
   "source": [
    "velocity = 24\n",
    "displacement = 15\n",
    "finalHeight = 10\n",
    "degreeAngle = 54.2\n",
    "\n",
    "radianAngle = (degreeAngle * pi)/180\n",
    "\n",
    "initialHeight = -((((-16) / ((velocity ** 2) * (cos(radianAngle) ** 2))) * (displacement ** 2)) + tan(radianAngle) * displacement - finalHeight)\n",
    "\n",
    "print(\"Luka Doncic released the ball at a height of\", initialHeight, \"ft\")"
   ]
  }
 ],
 "metadata": {
  "kernelspec": {
   "display_name": "Python 3.10.4 64-bit",
   "language": "python",
   "name": "python3"
  },
  "language_info": {
   "codemirror_mode": {
    "name": "ipython",
    "version": 3
   },
   "file_extension": ".py",
   "mimetype": "text/x-python",
   "name": "python",
   "nbconvert_exporter": "python",
   "pygments_lexer": "ipython3",
   "version": "3.10.4"
  },
  "vscode": {
   "interpreter": {
    "hash": "916dbcbb3f70747c44a77c7bcd40155683ae19c65e1c03b4aa3499c5328201f1"
   }
  }
 },
 "nbformat": 4,
 "nbformat_minor": 5
}

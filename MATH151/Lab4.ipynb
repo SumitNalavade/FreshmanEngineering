{
 "cells": [
  {
   "cell_type": "markdown",
   "id": "20c00fa5",
   "metadata": {},
   "source": [
    "## MATH 151 Lab  4"
   ]
  },
  {
   "cell_type": "markdown",
   "id": "7c243ef1",
   "metadata": {},
   "source": [
    "Sumit Nalavade, Michael Perez, Charlie McLaughlin, Ronit Dhawan section 526"
   ]
  },
  {
   "cell_type": "code",
   "execution_count": 1,
   "id": "cf836732",
   "metadata": {},
   "outputs": [],
   "source": [
    "from sympy import *\n",
    "from sympy.plotting import (plot,plot_parametric)"
   ]
  },
  {
   "cell_type": "markdown",
   "id": "3169990f",
   "metadata": {},
   "source": [
    "### Question 1"
   ]
  },
  {
   "cell_type": "markdown",
   "id": "f0561a86",
   "metadata": {},
   "source": [
    "#### 1a"
   ]
  },
  {
   "cell_type": "code",
   "execution_count": 7,
   "id": "0889599a",
   "metadata": {},
   "outputs": [
    {
     "name": "stdout",
     "output_type": "stream",
     "text": [
      "The equation of the tangent line at the point where x = 2 is y = 23/18 - 2*x/9\n"
     ]
    }
   ],
   "source": [
    "x = symbols(\"x\")\n",
    "\n",
    "initialEquation = ((2 * x) + 1) / ((x ** 2) + 2)\n",
    "\n",
    "point = initialEquation.subs(x, 2)\n",
    "differentiation = diff(initialEquation, x).subs(x, 2)\n",
    "\n",
    "tangentLineEquation = point + differentiation * (x - 2)\n",
    "\n",
    "print(f\"The equation of the tangent line at the point where x = 2 is y = {tangentLineEquation}\")\n"
   ]
  },
  {
   "cell_type": "markdown",
   "id": "efdd616f",
   "metadata": {},
   "source": [
    "#### 1b"
   ]
  },
  {
   "cell_type": "code",
   "execution_count": 10,
   "id": "582449e5",
   "metadata": {},
   "outputs": [
    {
     "name": "stdout",
     "output_type": "stream",
     "text": [
      "The equation of the normal line at the point where x = 2 is y = 9*x/2 - 49/6\n"
     ]
    }
   ],
   "source": [
    "normalLineEquation = point + -1 / differentiation * (x - 2)\n",
    "print(f\"The equation of the normal line at the point where x = 2 is y = {normalLineEquation}\")"
   ]
  },
  {
   "cell_type": "markdown",
   "id": "0721fb00",
   "metadata": {},
   "source": [
    "#### 1c"
   ]
  },
  {
   "cell_type": "code",
   "execution_count": null,
   "id": "dd38ebc1",
   "metadata": {},
   "outputs": [],
   "source": [
    "plot((initialEquation, (x, 0, 3)) ,(tangentLineEquation, (x, 0, 3)), (normalLineEquation, (x, 0, 3)), ylim=(-1, 2))"
   ]
  },
  {
   "cell_type": "markdown",
   "id": "8b00f000",
   "metadata": {},
   "source": [
    "### Question 2"
   ]
  },
  {
   "cell_type": "markdown",
   "id": "bacdc1db",
   "metadata": {},
   "source": [
    "#### 2a"
   ]
  },
  {
   "cell_type": "code",
   "execution_count": null,
   "id": "be2f2c71",
   "metadata": {},
   "outputs": [],
   "source": [
    "plot(sin(x) - (1 / 1000) * sin(1000 * x), (x, pi*-2, pi*2))\n",
    "print(\"The graph at point x = 0 seems to be increasing linearly with a slope of 1\")"
   ]
  },
  {
   "cell_type": "markdown",
   "id": "23bc68a6",
   "metadata": {},
   "source": [
    "#### 2b"
   ]
  },
  {
   "cell_type": "code",
   "execution_count": null,
   "id": "357bbf0f",
   "metadata": {},
   "outputs": [],
   "source": [
    "plot(sin(x) - (1 / 1000) * sin(1000 * x), (x, -0.25, 0.25))\n",
    "print(\"The graph at point x = 0 seems to be increasing linearly with a slope of 1\")"
   ]
  },
  {
   "cell_type": "markdown",
   "id": "94eb2168",
   "metadata": {},
   "source": [
    "#### 2c"
   ]
  },
  {
   "cell_type": "code",
   "execution_count": 18,
   "id": "25fa3475",
   "metadata": {},
   "outputs": [
    {
     "name": "stdout",
     "output_type": "stream",
     "text": [
      "The actual slope of the tangent line at x = 0 is 0\n"
     ]
    }
   ],
   "source": [
    "tangentLineSlope = diff(sin(x) - (1 / 1000) * sin(1000 * x), x).subs(x, 0)\n",
    "print(f\"The actual slope of the tangent line at x = 0 is {tangentLineSlope}\")"
   ]
  },
  {
   "cell_type": "markdown",
   "id": "df320613",
   "metadata": {},
   "source": [
    "#### 2d"
   ]
  },
  {
   "cell_type": "code",
   "execution_count": 19,
   "id": "dd5a4fcc",
   "metadata": {},
   "outputs": [
    {
     "name": "stdout",
     "output_type": "stream",
     "text": [
      "0.00016 |                                                      /\n",
      "        |                                                     / \n",
      "        |                                                    /  \n",
      "        |                                                   /   \n",
      "        |                                                  /    \n",
      "        |                                                ..     \n",
      "        |                                              ..       \n",
      "        |                                            ..         \n",
      "        |                                          ..           \n",
      "        |                                     .....             \n",
      "      0 |------------------...................------------------\n",
      "        |             .....                                     \n",
      "        |           ..                                          \n",
      "        |         ..                                            \n",
      "        |       ..                                              \n",
      "        |     ..                                                \n",
      "        |    /                                                  \n",
      "        |   /                                                   \n",
      "        |  /                                                    \n",
      "        | /                                                     \n",
      "-0.0001 |_______________________________________________________\n",
      "         -0.001                     0                          0.001\n",
      "The graph when zoomed in on the interval [-0.001, 0.001] at x = 0 appears to have a slope of 0 since it appears to be flat\n"
     ]
    }
   ],
   "source": [
    "plot(sin(x) - (1 / 1000) * sin(1000 * x), (x, -0.001, 0.001))\n",
    "print(\"The graph when zoomed in on the interval [-0.001, 0.001] at x = 0 appears to have a slope of 0 since it appears to be flat\")"
   ]
  },
  {
   "cell_type": "markdown",
   "id": "1fb8b9b8",
   "metadata": {},
   "source": [
    "### Question 3"
   ]
  },
  {
   "cell_type": "markdown",
   "id": "ccffd0d0",
   "metadata": {},
   "source": [
    "#### 3a"
   ]
  },
  {
   "cell_type": "code",
   "execution_count": 29,
   "id": "9ebb9309",
   "metadata": {},
   "outputs": [
    {
     "name": "stdout",
     "output_type": "stream",
     "text": [
      "The average rate of change of the volume from 0 - 10 minutes is -3055.55555555555 gallons/minute\n",
      "The average rate of change of V from 0 to 10 minutes is -3055.55555555555\n"
     ]
    }
   ],
   "source": [
    "t = symbols(\"t\")\n",
    "\n",
    "lawEquation = 100000 * (1 - (1/60) * t) ** 2\n",
    "upperSolution = lawEquation.subs(t, 10)\n",
    "lowerSolution = lawEquation.subs(t, 0)\n",
    "\n",
    "averageRateOfChange = (upperSolution - lowerSolution) / 10\n",
    "\n",
    "print(f\"The average rate of change of the volume from 0 - 10 minutes is {averageRateOfChange} gallons/minute\")"
   ]
  },
  {
   "cell_type": "markdown",
   "id": "baa2be1a",
   "metadata": {},
   "source": [
    "#### 3b"
   ]
  },
  {
   "cell_type": "code",
   "execution_count": 33,
   "id": "ed50b7a1",
   "metadata": {},
   "outputs": [
    {
     "name": "stdout",
     "output_type": "stream",
     "text": [
      "The instantaneous rate of change of volume with respect to t is 55.5555555555556*t - 3333.33333333333\n"
     ]
    }
   ],
   "source": [
    "deriv = diff(lawEquation, t)\n",
    "print(f\"The instantaneous rate of change of volume with respect to t is {deriv}\")\n"
   ]
  },
  {
   "cell_type": "markdown",
   "id": "f78847a1",
   "metadata": {},
   "source": [
    "#### 3c"
   ]
  },
  {
   "cell_type": "code",
   "execution_count": 36,
   "id": "9fff1823",
   "metadata": {},
   "outputs": [
    {
     "name": "stdout",
     "output_type": "stream",
     "text": [
      "The instantaneous rate of change of volume at a time of 10 minutes is -2777.77777777778 gallons/minute\n"
     ]
    }
   ],
   "source": [
    "iroc = deriv.subs(t, 10)\n",
    "print(f\"The instantaneous rate of change of volume at a time of 10 minutes is {iroc} gallons/minute\")"
   ]
  },
  {
   "cell_type": "markdown",
   "id": "379d5e46",
   "metadata": {},
   "source": [
    "3d"
   ]
  },
  {
   "cell_type": "code",
   "execution_count": 37,
   "id": "5fdd9271",
   "metadata": {},
   "outputs": [
    {
     "name": "stdout",
     "output_type": "stream",
     "text": [
      "Part a asks for the average rate of change of the function over an interval while part c asks for the instantaneous rate of change at a specified point. These are likely different because as the cylinder drains, the rate at which it emptys changes based on the remaining volume. \n"
     ]
    }
   ],
   "source": [
    "print(\"Part a asks for the average rate of change of the function over an interval while part c asks for the instantaneous rate of change at a specified point. These are likely different because as the cylinder drains, the rate at which it emptys changes based on the remaining volume. \")"
   ]
  }
 ],
 "metadata": {
  "kernelspec": {
   "display_name": "Python 3",
   "language": "python",
   "name": "python3"
  },
  "language_info": {
   "codemirror_mode": {
    "name": "ipython",
    "version": 3
   },
   "file_extension": ".py",
   "mimetype": "text/x-python",
   "name": "python",
   "nbconvert_exporter": "python",
   "pygments_lexer": "ipython3",
   "version": "3.8.8"
  }
 },
 "nbformat": 4,
 "nbformat_minor": 5
}

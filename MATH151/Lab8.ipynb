{
 "cells": [
  {
   "cell_type": "markdown",
   "id": "20c00fa5",
   "metadata": {},
   "source": [
    "## MATH 151 Lab 8"
   ]
  },
  {
   "cell_type": "markdown",
   "id": "7c243ef1",
   "metadata": {},
   "source": [
    "Sumit Nalavade, Ronit Dhawan, Charlie McLaughlin, Michael Perez"
   ]
  },
  {
   "cell_type": "code",
   "execution_count": 1,
   "id": "2276b737",
   "metadata": {},
   "outputs": [],
   "source": [
    "from sympy import *\n",
    "from sympy.plotting import (plot,plot_parametric)"
   ]
  },
  {
   "cell_type": "markdown",
   "id": "dccee95d",
   "metadata": {},
   "source": [
    "### Question 1"
   ]
  },
  {
   "cell_type": "markdown",
   "id": "f83eae05",
   "metadata": {},
   "source": [
    "#### 1a"
   ]
  },
  {
   "cell_type": "code",
   "execution_count": 21,
   "id": "06306ce5",
   "metadata": {},
   "outputs": [
    {
     "name": "stdout",
     "output_type": "stream",
     "text": [
      "f'(x) = 0.15*x**5 + 0.25*x**4 - 1.6*x**3 - 1.5*x**2 + 3.2*x - 0.9 \n",
      "\n",
      "Critical Numbers: \n",
      "x = -3.34365086397455, x = -2.20571930723638, x = 0.367785714582751, x = 0.821156998770767, x = 2.69376079119075, \n",
      "\n",
      "f'(-4) = -24.9000000000000 is < 0, which means f(x) is decreasing on (-oo, -3.34365086397455)\n",
      "f'(-3) = 3.00000000000000 is > 0, which means f(x) is increasing on (-3.34365086397455, -2.20571930723638)\n",
      "f'(-1) = -3.90000000000000 is < 0, which means f(x) is decreasing on (-2.20571930723638, 0.367785714582751)\n",
      "f'(0.5) = 0.145312500000000 is > 0, which means f(x) is increasing on (0.367785714582751, 0.821156998770767)\n",
      "f'(1) = -0.400000000000000 is < 0, which means f(x) is decreasing on (0.821156998770767, 2.69376079119075)\n",
      "f'(3) = 8.70000000000000 is > 0, which means f(x) is increasing on (2.69376079119075, oo)\n"
     ]
    }
   ],
   "source": [
    "x = symbols(\"x\")\n",
    "f = (1/40) * (x**6 + 2*x**5 - 16*x**4 - 20*x**3 + 64*x**2 - 36*x + 72)\n",
    "\n",
    "fPrime = diff(f, x, 1)\n",
    "criticalNums = solve(diff(f, x, 1))\n",
    "\n",
    "print(f\"f'(x) = {fPrime} \\n\")\n",
    "\n",
    "print(f\"Critical Numbers: \")\n",
    "for i in criticalNums:\n",
    "    print(f\"x = {i}\", end=\", \")\n",
    "print(\"\\n\")\n",
    "\n",
    "print(f\"f'(-4) = {fPrime.subs(x, -4)} is < 0, which means f(x) is decreasing on (-oo, {criticalNums[0]})\")\n",
    "print(f\"f'(-3) = {fPrime.subs(x, -3)} is > 0, which means f(x) is increasing on ({criticalNums[0]}, {criticalNums[1]})\")\n",
    "print(f\"f'(-1) = {fPrime.subs(x, -1)} is < 0, which means f(x) is decreasing on ({criticalNums[1]}, {criticalNums[2]})\")\n",
    "print(f\"f'(0.5) = {fPrime.subs(x, 0.5)} is > 0, which means f(x) is increasing on ({criticalNums[2]}, {criticalNums[3]})\")\n",
    "print(f\"f'(1) = {fPrime.subs(x, 1)} is < 0, which means f(x) is decreasing on ({criticalNums[3]}, {criticalNums[4]})\")\n",
    "print(f\"f'(3) = {fPrime.subs(x, 3)} is > 0, which means f(x) is increasing on ({criticalNums[4]}, oo)\")"
   ]
  },
  {
   "cell_type": "markdown",
   "id": "b5ed0668",
   "metadata": {},
   "source": [
    "#### 1b"
   ]
  },
  {
   "cell_type": "code",
   "execution_count": null,
   "id": "c66fb3f0",
   "metadata": {},
   "outputs": [],
   "source": []
  },
  {
   "cell_type": "markdown",
   "id": "528d208e",
   "metadata": {},
   "source": [
    "#### 1c"
   ]
  },
  {
   "cell_type": "code",
   "execution_count": null,
   "id": "5e910a3b",
   "metadata": {},
   "outputs": [],
   "source": []
  },
  {
   "cell_type": "markdown",
   "id": "e13187d3",
   "metadata": {},
   "source": [
    "#### 1d"
   ]
  },
  {
   "cell_type": "code",
   "execution_count": null,
   "id": "03bb8a2f",
   "metadata": {},
   "outputs": [],
   "source": []
  },
  {
   "cell_type": "markdown",
   "id": "46a2250a",
   "metadata": {},
   "source": [
    "### Question 2"
   ]
  },
  {
   "cell_type": "markdown",
   "id": "859727b7",
   "metadata": {},
   "source": [
    "#### 2a"
   ]
  },
  {
   "cell_type": "code",
   "execution_count": null,
   "id": "709b2e6f",
   "metadata": {},
   "outputs": [],
   "source": []
  },
  {
   "cell_type": "markdown",
   "id": "4cad579b",
   "metadata": {},
   "source": [
    "#### 2b"
   ]
  },
  {
   "cell_type": "code",
   "execution_count": null,
   "id": "ed15acf0",
   "metadata": {},
   "outputs": [],
   "source": []
  },
  {
   "cell_type": "markdown",
   "id": "ce63158d",
   "metadata": {},
   "source": [
    "#### 2c"
   ]
  },
  {
   "cell_type": "code",
   "execution_count": null,
   "id": "6a698242",
   "metadata": {},
   "outputs": [],
   "source": []
  },
  {
   "cell_type": "markdown",
   "id": "131975ef",
   "metadata": {},
   "source": [
    "#### 2d"
   ]
  },
  {
   "cell_type": "code",
   "execution_count": null,
   "id": "2cbdedcd",
   "metadata": {},
   "outputs": [],
   "source": []
  },
  {
   "cell_type": "markdown",
   "id": "721411f8",
   "metadata": {},
   "source": [
    "#### 2e"
   ]
  },
  {
   "cell_type": "code",
   "execution_count": null,
   "id": "96137400",
   "metadata": {},
   "outputs": [],
   "source": []
  },
  {
   "cell_type": "markdown",
   "id": "d4dc1f42",
   "metadata": {},
   "source": [
    "### Question 3"
   ]
  },
  {
   "cell_type": "markdown",
   "id": "17570c6c",
   "metadata": {},
   "source": [
    "#### 3a"
   ]
  },
  {
   "cell_type": "code",
   "execution_count": null,
   "id": "09090072",
   "metadata": {},
   "outputs": [],
   "source": []
  },
  {
   "cell_type": "markdown",
   "id": "951ad982",
   "metadata": {},
   "source": [
    "#### 3b"
   ]
  },
  {
   "cell_type": "code",
   "execution_count": null,
   "id": "885c06df",
   "metadata": {},
   "outputs": [],
   "source": []
  },
  {
   "cell_type": "markdown",
   "id": "3047327f",
   "metadata": {},
   "source": [
    "#### 3c"
   ]
  },
  {
   "cell_type": "code",
   "execution_count": null,
   "id": "e9b7c01f",
   "metadata": {},
   "outputs": [],
   "source": []
  }
 ],
 "metadata": {
  "kernelspec": {
   "display_name": "Python 3.10.4 64-bit",
   "language": "python",
   "name": "python3"
  },
  "language_info": {
   "codemirror_mode": {
    "name": "ipython",
    "version": 3
   },
   "file_extension": ".py",
   "mimetype": "text/x-python",
   "name": "python",
   "nbconvert_exporter": "python",
   "pygments_lexer": "ipython3",
   "version": "3.10.4"
  },
  "vscode": {
   "interpreter": {
    "hash": "916dbcbb3f70747c44a77c7bcd40155683ae19c65e1c03b4aa3499c5328201f1"
   }
  }
 },
 "nbformat": 4,
 "nbformat_minor": 5
}

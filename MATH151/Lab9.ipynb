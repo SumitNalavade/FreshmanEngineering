{
 "cells": [
  {
   "cell_type": "markdown",
   "id": "20c00fa5",
   "metadata": {},
   "source": [
    "## MATH 151 Lab 8"
   ]
  },
  {
   "cell_type": "markdown",
   "id": "7c243ef1",
   "metadata": {},
   "source": [
    "Put team members' names and section number here."
   ]
  },
  {
   "cell_type": "code",
   "execution_count": 1,
   "id": "2276b737",
   "metadata": {},
   "outputs": [],
   "source": [
    "from sympy import *\n",
    "from sympy.plotting import (plot,plot_parametric)"
   ]
  },
  {
   "cell_type": "markdown",
   "id": "dccee95d",
   "metadata": {},
   "source": [
    "### Question 1"
   ]
  },
  {
   "cell_type": "markdown",
   "id": "f83eae05",
   "metadata": {},
   "source": [
    "#### 1a"
   ]
  },
  {
   "cell_type": "code",
   "execution_count": 9,
   "id": "06306ce5",
   "metadata": {},
   "outputs": [
    {
     "name": "stdout",
     "output_type": "stream",
     "text": [
      "f(x) = -log(x) + log(x + 26) \n",
      "\n",
      "g(x) = 1/x\n"
     ]
    }
   ],
   "source": [
    "x = symbols(\"x\")\n",
    "\n",
    "fx = ln(x + 26) - ln(x)\n",
    "gx = 1 / x\n",
    "\n",
    "print(f\"f(x) = {fx} \\n\")\n",
    "print(f\"g(x) = {gx}\")"
   ]
  },
  {
   "cell_type": "markdown",
   "id": "b5ed0668",
   "metadata": {},
   "source": [
    "#### 1b"
   ]
  },
  {
   "cell_type": "code",
   "execution_count": 10,
   "id": "c66fb3f0",
   "metadata": {},
   "outputs": [
    {
     "name": "stdout",
     "output_type": "stream",
     "text": [
      "The limit of f(x) as x approaches oo: 0\n",
      "The limit of g(x) as x approaches oo: 0\n"
     ]
    }
   ],
   "source": [
    "print(f\"The limit of f(x) as x approaches oo: {limit(fx, x, oo)}\")\n",
    "print(f\"The limit of g(x) as x approaches oo: {limit(gx, x, oo)}\")"
   ]
  },
  {
   "cell_type": "markdown",
   "id": "142cb09a",
   "metadata": {},
   "source": [
    "#### 1c"
   ]
  },
  {
   "cell_type": "code",
   "execution_count": 18,
   "id": "e7783255",
   "metadata": {},
   "outputs": [
    {
     "name": "stdout",
     "output_type": "stream",
     "text": [
      "-log(x) + log(x + 26) / 1/x\n",
      "-x**2*(1/(x + 26) - 1/x)\n",
      "26\n",
      "Using L'Hopitals rule, the answer is e^26\n"
     ]
    }
   ],
   "source": [
    "print(f\"{fx} / {gx}\")\n",
    "\n",
    "y = diff(fx, x)/diff(gx, x)\n",
    "\n",
    "print(y)\n",
    "\n",
    "print(limit(y, x, oo))\n",
    "\n",
    "print(f\"Using L'Hopitals rule, the answer is e^{limit(y, x, oo)}\")"
   ]
  },
  {
   "cell_type": "markdown",
   "id": "81e1eea6",
   "metadata": {},
   "source": [
    "#### 1d"
   ]
  },
  {
   "cell_type": "code",
   "execution_count": 21,
   "id": "36c3e65d",
   "metadata": {},
   "outputs": [
    {
     "name": "stdout",
     "output_type": "stream",
     "text": [
      "The limit as x approaches infinity is e^26\n"
     ]
    }
   ],
   "source": [
    "print(f\"The limit as x approaches infinity is e^{limit(ln((1 + 26/x) ** x), x, oo)}\")"
   ]
  },
  {
   "cell_type": "markdown",
   "id": "46a2250a",
   "metadata": {},
   "source": [
    "### Question 2"
   ]
  },
  {
   "cell_type": "markdown",
   "id": "859727b7",
   "metadata": {},
   "source": [
    "#### 2a"
   ]
  },
  {
   "cell_type": "code",
   "execution_count": 33,
   "id": "709b2e6f",
   "metadata": {},
   "outputs": [
    {
     "name": "stdout",
     "output_type": "stream",
     "text": [
      "The radius of the billboard that would fit a photograph of such dimensions is 5*sqrt(74)\n"
     ]
    }
   ],
   "source": [
    "outerWidth = 50\n",
    "outerHeight = 70\n",
    "\n",
    "r = sqrt(outerWidth ** 2 + outerHeight ** 2) / 2\n",
    "\n",
    "print(f\"The radius of the billboard that would fit a photograph of such dimensions is {r}\")"
   ]
  },
  {
   "cell_type": "markdown",
   "id": "4cad579b",
   "metadata": {},
   "source": [
    "#### 2b"
   ]
  },
  {
   "cell_type": "code",
   "execution_count": 43,
   "id": "ed15acf0",
   "metadata": {},
   "outputs": [
    {
     "name": "stdout",
     "output_type": "stream",
     "text": [
      "The value of a of the largest picture that can fit in the frame is -8 + 55*sqrt(2)\n",
      "The value of b of the largest picture that can fit in the frame is -20 + 55*sqrt(2)\n"
     ]
    }
   ],
   "source": [
    "w = symbols(\"w\")\n",
    "h = symbols(\"h\")\n",
    "\n",
    "r = 55\n",
    "d = 2 * r\n",
    "\n",
    "a = solve((w + 8)-(d / sqrt(2)), w)\n",
    "b = solve((h + 20)-(d / sqrt(2)), h)\n",
    "\n",
    "print(f'The value of a of the largest picture that can fit in the frame is {a[0]}')\n",
    "print(f'The value of b of the largest picture that can fit in the frame is {b[0]}')"
   ]
  },
  {
   "cell_type": "markdown",
   "id": "d4dc1f42",
   "metadata": {},
   "source": [
    "### Question 3"
   ]
  },
  {
   "cell_type": "markdown",
   "id": "17570c6c",
   "metadata": {},
   "source": [
    "#### 3a"
   ]
  },
  {
   "cell_type": "code",
   "execution_count": null,
   "id": "09090072",
   "metadata": {},
   "outputs": [],
   "source": []
  },
  {
   "cell_type": "markdown",
   "id": "951ad982",
   "metadata": {},
   "source": [
    "#### 3b"
   ]
  },
  {
   "cell_type": "code",
   "execution_count": null,
   "id": "885c06df",
   "metadata": {},
   "outputs": [],
   "source": []
  },
  {
   "cell_type": "markdown",
   "id": "3047327f",
   "metadata": {},
   "source": [
    "### Question 4"
   ]
  },
  {
   "cell_type": "markdown",
   "id": "ab7099ec",
   "metadata": {},
   "source": [
    "#### 4a"
   ]
  },
  {
   "cell_type": "code",
   "execution_count": null,
   "id": "b7cad195",
   "metadata": {},
   "outputs": [],
   "source": []
  },
  {
   "cell_type": "markdown",
   "id": "575405be",
   "metadata": {},
   "source": [
    "#### 4b"
   ]
  },
  {
   "cell_type": "code",
   "execution_count": null,
   "id": "ee8eb7a3",
   "metadata": {},
   "outputs": [],
   "source": []
  }
 ],
 "metadata": {
  "kernelspec": {
   "display_name": "Python 3.10.6 64-bit",
   "language": "python",
   "name": "python3"
  },
  "language_info": {
   "codemirror_mode": {
    "name": "ipython",
    "version": 3
   },
   "file_extension": ".py",
   "mimetype": "text/x-python",
   "name": "python",
   "nbconvert_exporter": "python",
   "pygments_lexer": "ipython3",
   "version": "3.10.6"
  },
  "vscode": {
   "interpreter": {
    "hash": "916dbcbb3f70747c44a77c7bcd40155683ae19c65e1c03b4aa3499c5328201f1"
   }
  }
 },
 "nbformat": 4,
 "nbformat_minor": 5
}

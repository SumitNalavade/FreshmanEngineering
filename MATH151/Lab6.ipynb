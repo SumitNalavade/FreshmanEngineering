{
 "cells": [
  {
   "cell_type": "markdown",
   "id": "20c00fa5",
   "metadata": {},
   "source": [
    "## MATH 151 Lab  6"
   ]
  },
  {
   "cell_type": "markdown",
   "id": "7c243ef1",
   "metadata": {},
   "source": [
    "Put team members' names and section number here."
   ]
  },
  {
   "cell_type": "code",
   "execution_count": null,
   "id": "cf836732",
   "metadata": {},
   "outputs": [],
   "source": [
    "from sympy import *\n",
    "from sympy.plotting import (plot,plot_parametric)"
   ]
  },
  {
   "cell_type": "markdown",
   "id": "3169990f",
   "metadata": {},
   "source": [
    "### Question 1"
   ]
  },
  {
   "cell_type": "markdown",
   "id": "f0561a86",
   "metadata": {},
   "source": [
    "#### 1a"
   ]
  },
  {
   "cell_type": "code",
   "execution_count": 3,
   "id": "0889599a",
   "metadata": {},
   "outputs": [
    {
     "name": "stdout",
     "output_type": "stream",
     "text": [
      "The values of r for which y=e^(rx) is a solution to 2y^n+y'-y=0 are [-1, 1/2]\n"
     ]
    }
   ],
   "source": [
    "r = symbols(\"r\")\n",
    "x = symbols(\"x\")\n",
    "\n",
    "y = (E ** (r * x))\n",
    "\n",
    "a = diff(y, x, 2)\n",
    "b = diff(y, x, 1)\n",
    "\n",
    "solutions = solve((2 * a + b - y), r)\n",
    "\n",
    "print(f\"The values of r for which y=e^(rx) is a solution to 2y^n+y'-y=0 are {solutions}\")"
   ]
  },
  {
   "cell_type": "markdown",
   "id": "efdd616f",
   "metadata": {},
   "source": [
    "#### 1b"
   ]
  },
  {
   "cell_type": "code",
   "execution_count": 4,
   "id": "582449e5",
   "metadata": {},
   "outputs": [
    {
     "name": "stdout",
     "output_type": "stream",
     "text": [
      "The values of r for which y=e^(rx) is a solution to y^n+6y'+10y=0 are [-3 - I, -3 + I]\n"
     ]
    }
   ],
   "source": [
    "a = diff(y, x, 2)\n",
    "b = diff(y, x, 1)\n",
    "\n",
    "solutions = solve((diff(y, x, 2) + 6 * diff(y, x, 1) + 10 * y), r)\n",
    "\n",
    "print(f\"The values of r for which y=e^(rx) is a solution to y^n+6y'+10y=0 are {solutions}\")"
   ]
  },
  {
   "cell_type": "markdown",
   "id": "0721fb00",
   "metadata": {},
   "source": [
    "#### 1c"
   ]
  },
  {
   "cell_type": "code",
   "execution_count": 6,
   "id": "dd38ebc1",
   "metadata": {},
   "outputs": [
    {
     "name": "stdout",
     "output_type": "stream",
     "text": [
      "The solutions for y^n+6y'+10y when y=e^(-3x)cos(x)+sin(x) are 6*(-sin(x) + cos(x))*exp(-3*x) - 8*(sin(x) + cos(x))*exp(-3*x) + 2*(7*sin(x) + cos(x))*exp(-3*x)\n"
     ]
    }
   ],
   "source": [
    "y = (E ** (-3 * x) * (cos(x) + sin(x)))\n",
    "\n",
    "a = diff(y, x, 2)\n",
    "b = diff(y, x, 1)\n",
    "\n",
    "solutions = (a + 6 * b + 10 * y)\n",
    "\n",
    "print(f\"The solutions for y^n+6y'+10y when y=e^(-3x)cos(x)+sin(x) are {solutions}\")"
   ]
  },
  {
   "cell_type": "markdown",
   "id": "8b00f000",
   "metadata": {},
   "source": [
    "### Question 2"
   ]
  },
  {
   "cell_type": "markdown",
   "id": "bacdc1db",
   "metadata": {},
   "source": [
    "#### 2a"
   ]
  },
  {
   "cell_type": "code",
   "execution_count": null,
   "id": "be2f2c71",
   "metadata": {},
   "outputs": [],
   "source": [
    "t = symbols(\"t\")\n",
    "\n",
    "parametricX = E ** (2 * sin(t))\n",
    "parametricY = E ** cos(t)\n",
    "\n",
    "xVal = parametricX.subs(t, (pi / 6))\n",
    "yVal = parametricY.subs(t, (pi / 6))\n",
    "\n",
    "xSlope = diff(parametricX, t).subs(t, (pi / 6))\n",
    "ySlope = diff(parametricY, t).subs(t, (pi / 6))\n",
    "\n",
    "print(f\"<{xVal + xSlope * t}, {yVal + ySlope * t}>\")\n",
    "print(f\"<{N(xVal) + xSlope * t}, {N(yVal) + ySlope * t}>\")"
   ]
  },
  {
   "cell_type": "markdown",
   "id": "23bc68a6",
   "metadata": {},
   "source": [
    "#### 2b"
   ]
  },
  {
   "cell_type": "code",
   "execution_count": null,
   "id": "357bbf0f",
   "metadata": {},
   "outputs": [],
   "source": [
    "xSolution = solve(diff(parametricX, t, 1))\n",
    "ySolution = solve(diff(parametricY, t, 1))\n",
    "\n",
    "print(\"Horizontal:\")\n",
    "print(f\"({parametricX.subs(t, ySolution[0])}, {parametricY.subs(t, ySolution[0])})\")\n",
    "print(f\"({parametricX.subs(t, ySolution[1])}, {parametricY.subs(t, ySolution[1])}) \\n\")\n",
    "\n",
    "print(\"Vertical:\")\n",
    "print(f\"({parametricX.subs(t, xSolution[0])}, {parametricY.subs(t, xSolution[0])})\")\n",
    "print(f\"({parametricX.subs(t, xSolution[1])}, {parametricY.subs(t, xSolution[1])}) \\n\")"
   ]
  },
  {
   "cell_type": "markdown",
   "id": "94eb2168",
   "metadata": {},
   "source": [
    "#### 2c"
   ]
  },
  {
   "cell_type": "code",
   "execution_count": null,
   "id": "25fa3475",
   "metadata": {},
   "outputs": [],
   "source": [
    "pCurve = plot_parametric((parametricX, parametricY), (t, 0, 2 * pi), show = false)\n",
    "tangents = plot_parametric(((xVal + xSlope * t), (yVal + ySlope * t)), (t, 0, 2 * pi), show = false)\n",
    "pCurve.extend(tangents)\n",
    "\n",
    "pCurve.show()"
   ]
  },
  {
   "cell_type": "markdown",
   "id": "1fb8b9b8",
   "metadata": {},
   "source": [
    "### Question 3"
   ]
  },
  {
   "cell_type": "markdown",
   "id": "ccffd0d0",
   "metadata": {},
   "source": [
    "#### 3a"
   ]
  },
  {
   "cell_type": "code",
   "execution_count": 10,
   "id": "9ebb9309",
   "metadata": {},
   "outputs": [
    {
     "ename": "ValueError",
     "evalue": "The TextBackend supports only expressions over a 1D range",
     "output_type": "error",
     "traceback": [
      "\u001b[0;31m---------------------------------------------------------------------------\u001b[0m",
      "\u001b[0;31mValueError\u001b[0m                                Traceback (most recent call last)",
      "\u001b[1;32m/home/sumitn/code/FreshmanEngineering/MATH151/Lab6.ipynb Cell 20\u001b[0m in \u001b[0;36m<cell line: 6>\u001b[0;34m()\u001b[0m\n\u001b[1;32m      <a href='vscode-notebook-cell://wsl%2Bubuntu-22.04/home/sumitn/code/FreshmanEngineering/MATH151/Lab6.ipynb#X25sdnNjb2RlLXJlbW90ZQ%3D%3D?line=1'>2</a>\u001b[0m y \u001b[39m=\u001b[39m symbols(\u001b[39m\"\u001b[39m\u001b[39my\u001b[39m\u001b[39m\"\u001b[39m)\n\u001b[1;32m      <a href='vscode-notebook-cell://wsl%2Bubuntu-22.04/home/sumitn/code/FreshmanEngineering/MATH151/Lab6.ipynb#X25sdnNjb2RlLXJlbW90ZQ%3D%3D?line=3'>4</a>\u001b[0m expr \u001b[39m=\u001b[39m ((\u001b[39m-\u001b[39m\u001b[39m1\u001b[39m \u001b[39m*\u001b[39m ((x \u001b[39m*\u001b[39m\u001b[39m*\u001b[39m \u001b[39m2\u001b[39m \u001b[39m+\u001b[39m y \u001b[39m*\u001b[39m\u001b[39m*\u001b[39m \u001b[39m2\u001b[39m) \u001b[39m/\u001b[39m \u001b[39m4\u001b[39m) \u001b[39m+\u001b[39m \u001b[39m2\u001b[39m \u001b[39m*\u001b[39m x \u001b[39m-\u001b[39m \u001b[39m2\u001b[39m) \u001b[39m*\u001b[39m\u001b[39m*\u001b[39m \u001b[39m2\u001b[39m) \u001b[39m-\u001b[39m (\u001b[39m5\u001b[39m \u001b[39m*\u001b[39m (x \u001b[39m*\u001b[39m\u001b[39m*\u001b[39m \u001b[39m2\u001b[39m \u001b[39m+\u001b[39m y \u001b[39m*\u001b[39m\u001b[39m*\u001b[39m \u001b[39m2\u001b[39m))\n\u001b[0;32m----> <a href='vscode-notebook-cell://wsl%2Bubuntu-22.04/home/sumitn/code/FreshmanEngineering/MATH151/Lab6.ipynb#X25sdnNjb2RlLXJlbW90ZQ%3D%3D?line=5'>6</a>\u001b[0m plot_implicit(expr, (x, \u001b[39m-\u001b[39;49m\u001b[39m5\u001b[39;49m, \u001b[39m20\u001b[39;49m), (y, \u001b[39m-\u001b[39;49m\u001b[39m15\u001b[39;49m, \u001b[39m15\u001b[39;49m))\n",
      "File \u001b[0;32m~/.local/lib/python3.10/site-packages/sympy/plotting/plot_implicit.py:431\u001b[0m, in \u001b[0;36mplot_implicit\u001b[0;34m(expr, x_var, y_var, adaptive, depth, points, line_color, show, **kwargs)\u001b[0m\n\u001b[1;32m    429\u001b[0m p \u001b[39m=\u001b[39m Plot(series_argument, \u001b[39m*\u001b[39m\u001b[39m*\u001b[39mkwargs)\n\u001b[1;32m    430\u001b[0m \u001b[39mif\u001b[39;00m show:\n\u001b[0;32m--> 431\u001b[0m     p\u001b[39m.\u001b[39;49mshow()\n\u001b[1;32m    432\u001b[0m \u001b[39mreturn\u001b[39;00m p\n",
      "File \u001b[0;32m~/.local/lib/python3.10/site-packages/sympy/plotting/plot.py:251\u001b[0m, in \u001b[0;36mPlot.show\u001b[0;34m(self)\u001b[0m\n\u001b[1;32m    249\u001b[0m     \u001b[39mself\u001b[39m\u001b[39m.\u001b[39m_backend\u001b[39m.\u001b[39mclose()\n\u001b[1;32m    250\u001b[0m \u001b[39mself\u001b[39m\u001b[39m.\u001b[39m_backend \u001b[39m=\u001b[39m \u001b[39mself\u001b[39m\u001b[39m.\u001b[39mbackend(\u001b[39mself\u001b[39m)\n\u001b[0;32m--> 251\u001b[0m \u001b[39mself\u001b[39;49m\u001b[39m.\u001b[39;49m_backend\u001b[39m.\u001b[39;49mshow()\n",
      "File \u001b[0;32m~/.local/lib/python3.10/site-packages/sympy/plotting/plot.py:1578\u001b[0m, in \u001b[0;36mTextBackend.show\u001b[0;34m(self)\u001b[0m\n\u001b[1;32m   1575\u001b[0m     \u001b[39mraise\u001b[39;00m \u001b[39mValueError\u001b[39;00m(\n\u001b[1;32m   1576\u001b[0m         \u001b[39m'\u001b[39m\u001b[39mThe TextBackend supports only one graph per Plot.\u001b[39m\u001b[39m'\u001b[39m)\n\u001b[1;32m   1577\u001b[0m \u001b[39melif\u001b[39;00m \u001b[39mnot\u001b[39;00m \u001b[39misinstance\u001b[39m(\u001b[39mself\u001b[39m\u001b[39m.\u001b[39mparent\u001b[39m.\u001b[39m_series[\u001b[39m0\u001b[39m], LineOver1DRangeSeries):\n\u001b[0;32m-> 1578\u001b[0m     \u001b[39mraise\u001b[39;00m \u001b[39mValueError\u001b[39;00m(\n\u001b[1;32m   1579\u001b[0m         \u001b[39m'\u001b[39m\u001b[39mThe TextBackend supports only expressions over a 1D range\u001b[39m\u001b[39m'\u001b[39m)\n\u001b[1;32m   1580\u001b[0m \u001b[39melse\u001b[39;00m:\n\u001b[1;32m   1581\u001b[0m     ser \u001b[39m=\u001b[39m \u001b[39mself\u001b[39m\u001b[39m.\u001b[39mparent\u001b[39m.\u001b[39m_series[\u001b[39m0\u001b[39m]\n",
      "\u001b[0;31mValueError\u001b[0m: The TextBackend supports only expressions over a 1D range"
     ]
    }
   ],
   "source": [
    "x = symbols(\"x\")\n",
    "y = symbols(\"y\")\n",
    "\n",
    "expr = ((-1 * ((x ** 2 + y ** 2) / 4) + 2 * x - 2) ** 2) - (5 * (x ** 2 + y ** 2))\n",
    "\n",
    "plot_implicit(expr, (x, -5, 20), (y, -15, 15))"
   ]
  },
  {
   "cell_type": "markdown",
   "id": "baa2be1a",
   "metadata": {},
   "source": [
    "#### 3b"
   ]
  },
  {
   "cell_type": "code",
   "execution_count": 9,
   "id": "ed50b7a1",
   "metadata": {},
   "outputs": [
    {
     "ename": "NameError",
     "evalue": "name 'expr' is not defined",
     "output_type": "error",
     "traceback": [
      "\u001b[0;31m---------------------------------------------------------------------------\u001b[0m",
      "\u001b[0;31mNameError\u001b[0m                                 Traceback (most recent call last)",
      "\u001b[1;32m/home/sumitn/code/FreshmanEngineering/MATH151/Lab6.ipynb Cell 22\u001b[0m in \u001b[0;36m<cell line: 1>\u001b[0;34m()\u001b[0m\n\u001b[0;32m----> <a href='vscode-notebook-cell://wsl%2Bubuntu-22.04/home/sumitn/code/FreshmanEngineering/MATH151/Lab6.ipynb#X30sdnNjb2RlLXJlbW90ZQ%3D%3D?line=0'>1</a>\u001b[0m solution \u001b[39m=\u001b[39m idiff(expr, y, x)\n\u001b[1;32m      <a href='vscode-notebook-cell://wsl%2Bubuntu-22.04/home/sumitn/code/FreshmanEngineering/MATH151/Lab6.ipynb#X30sdnNjb2RlLXJlbW90ZQ%3D%3D?line=1'>2</a>\u001b[0m \u001b[39mprint\u001b[39m(solution)\n",
      "\u001b[0;31mNameError\u001b[0m: name 'expr' is not defined"
     ]
    }
   ],
   "source": [
    "solution = idiff(expr, y, x)\n",
    "print(f\"dy/dx is {solution}\")"
   ]
  },
  {
   "cell_type": "markdown",
   "id": "e7e04f9d",
   "metadata": {},
   "source": [
    "#### 3c"
   ]
  },
  {
   "cell_type": "code",
   "execution_count": null,
   "id": "d3cb4575",
   "metadata": {},
   "outputs": [],
   "source": [
    "dydx = idiff(expr, y, x)\n",
    "\n",
    "vertical1 = solve([denom(dydx), expr],[x, y])\n",
    "vertical2 = solve(expr.subs(y, 0))\n",
    "\n",
    "print(f'The tangent line is vertical at: {vertical1[0]}, {vertical1[1]}, ({vertical2[0]}, 0), ({vertical2[1]}, 0)')"
   ]
  },
  {
   "cell_type": "markdown",
   "id": "f78847a1",
   "metadata": {},
   "source": [
    "#### 3d"
   ]
  },
  {
   "cell_type": "code",
   "execution_count": null,
   "id": "9fff1823",
   "metadata": {},
   "outputs": [],
   "source": [
    "pcurve = plot_implicit(expr, (x, -5, 20), (y, -15, 15), show = False)\n",
    "\n",
    "vertical1 = plot_parametric((-3/2, t, (t, -15, 15)),(4 + 2*sqrt(5) + 2*sqrt(7 + 4*sqrt(5)),t,(t,-15,15)),show=False)\n",
    "pcurve.extend(vertical1)\n",
    "\n",
    "vertical2 = plot_parametric((47/100),t,(t,-15,15), show = False)\n",
    "pcurve.extend(vertical2)\n",
    "\n",
    "pcurve.show()"
   ]
  },
  {
   "cell_type": "markdown",
   "id": "f9fde57e",
   "metadata": {},
   "source": [
    "### Question 4"
   ]
  },
  {
   "cell_type": "markdown",
   "id": "7e54bb48",
   "metadata": {},
   "source": [
    "#### 4a"
   ]
  },
  {
   "cell_type": "code",
   "execution_count": null,
   "id": "3ce0b4af",
   "metadata": {},
   "outputs": [],
   "source": [
    "y = (x ** (1 / 5) * (x ** 3 + 1) ** (1 / 2)) / (2 - 7 * x) ** 4\n",
    "\n",
    "solution1 = diff(expand_log(ln(y), force = True), x, 1) * y\n",
    "\n",
    "print(f\"dy/dx is {solution1}\")"
   ]
  },
  {
   "cell_type": "markdown",
   "id": "cd9781f6",
   "metadata": {},
   "source": [
    "#### 4b"
   ]
  },
  {
   "cell_type": "code",
   "execution_count": null,
   "id": "918804cf",
   "metadata": {},
   "outputs": [],
   "source": [
    "solution2 = diff(y, x, 1)\n",
    "print(f\"dy/dx by differentiating directly is {solution2}\")"
   ]
  },
  {
   "cell_type": "markdown",
   "id": "f4a58c47",
   "metadata": {},
   "source": [
    "#### 4c"
   ]
  },
  {
   "cell_type": "code",
   "execution_count": null,
   "id": "8bda340d",
   "metadata": {},
   "outputs": [],
   "source": [
    "expanded1 = solution1.expand()\n",
    "expanded2 = solution2.expand()\n",
    "\n",
    "EQUAL = expanded1 == expanded2\n",
    "\n",
    "print(f\"Expanded answer to part a: {expanded1} \\n\")\n",
    "print(f\"Expanded answer to part b: {expanded2} \\n\")\n",
    "\n",
    "print(f\"Because part a being evaluated to equal part b is {EQUAL}, they are equivalent\")"
   ]
  }
 ],
 "metadata": {
  "kernelspec": {
   "display_name": "Python 3.10.4 64-bit",
   "language": "python",
   "name": "python3"
  },
  "language_info": {
   "codemirror_mode": {
    "name": "ipython",
    "version": 3
   },
   "file_extension": ".py",
   "mimetype": "text/x-python",
   "name": "python",
   "nbconvert_exporter": "python",
   "pygments_lexer": "ipython3",
   "version": "3.10.4"
  },
  "vscode": {
   "interpreter": {
    "hash": "916dbcbb3f70747c44a77c7bcd40155683ae19c65e1c03b4aa3499c5328201f1"
   }
  }
 },
 "nbformat": 4,
 "nbformat_minor": 5
}

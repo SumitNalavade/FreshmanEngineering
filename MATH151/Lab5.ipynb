{
 "cells": [
  {
   "cell_type": "markdown",
   "id": "20c00fa5",
   "metadata": {},
   "source": [
    "## MATH 151 Lab  5"
   ]
  },
  {
   "cell_type": "markdown",
   "id": "7c243ef1",
   "metadata": {},
   "source": [
    "Sumit Nalavade, Michael Perez, Ronit Dhawan, Charlie McLaughlin Section 526"
   ]
  },
  {
   "cell_type": "code",
   "execution_count": 1,
   "id": "cf836732",
   "metadata": {},
   "outputs": [],
   "source": [
    "from sympy import *\n",
    "from sympy.plotting import (plot,plot_parametric)"
   ]
  },
  {
   "cell_type": "markdown",
   "id": "3169990f",
   "metadata": {},
   "source": [
    "### Question 1"
   ]
  },
  {
   "cell_type": "markdown",
   "id": "f0561a86",
   "metadata": {},
   "source": [
    "#### 1a"
   ]
  },
  {
   "cell_type": "code",
   "execution_count": 2,
   "id": "0889599a",
   "metadata": {},
   "outputs": [
    {
     "name": "stdout",
     "output_type": "stream",
     "text": [
      "Derivative #1: 2*x*exp(x) + (x**2 + 1)*exp(x)\n",
      "Derivative #2: (x**2 + 4*x + 3)*exp(x)\n",
      "Derivative #3: (x**2 + 6*x + 7)*exp(x)\n",
      "Derivative #4: (x**2 + 8*x + 13)*exp(x)\n",
      "Derivative #5: (x**2 + 10*x + 21)*exp(x)\n",
      "Derivative #6: (x**2 + 12*x + 31)*exp(x)\n",
      "Derivative #7: (x**2 + 14*x + 43)*exp(x)\n",
      "Derivative #8: (x**2 + 16*x + 57)*exp(x)\n"
     ]
    }
   ],
   "source": [
    "x = symbols(\"x\")\n",
    "\n",
    "expr = E ** x * (1 + (x ** 2))\n",
    "\n",
    "for i in range(8):\n",
    "    print(f\"Derivative #{i + 1}: {diff(expr, x, i + 1)}\")  \n"
   ]
  },
  {
   "cell_type": "markdown",
   "id": "efdd616f",
   "metadata": {},
   "source": [
    "#### 1b"
   ]
  },
  {
   "cell_type": "code",
   "execution_count": 3,
   "id": "582449e5",
   "metadata": {},
   "outputs": [
    {
     "name": "stdout",
     "output_type": "stream",
     "text": [
      "The formula for the nth derivative of f is: ((x ** 2) + n*2*x + ((n * -1) + n ** 2 + 1)) * e**x\n"
     ]
    }
   ],
   "source": [
    "print(\"The formula for the nth derivative of f is: ((x ** 2) + n*2*x + ((n * -1) + n ** 2 + 1)) * e**x\")"
   ]
  },
  {
   "cell_type": "markdown",
   "id": "0721fb00",
   "metadata": {},
   "source": [
    "#### 1c"
   ]
  },
  {
   "cell_type": "code",
   "execution_count": 14,
   "id": "dd38ebc1",
   "metadata": {},
   "outputs": [
    {
     "name": "stdout",
     "output_type": "stream",
     "text": [
      "The original equation to the 50th derivative is (x**2 + 100*x + 2451)*exp(x)\n",
      "My equation to the 50th derivative is (x**2 + 100*x + 2451)*exp(x)\n"
     ]
    }
   ],
   "source": [
    "#50th\n",
    "n = symbols(\"n\");\n",
    "\n",
    "nthDerivativeEquation = ((x ** 2) + n*2*x + ((n * -1) + n ** 2 + 1)) * exp(x)\n",
    "\n",
    "print(f\"The original equation to the 50th derivative is {diff(expr, x, 50)}\")\n",
    "print(f\"My equation to the 50th derivative is {nthDerivativeEquation.subs(n, 50)}\")\n"
   ]
  },
  {
   "cell_type": "markdown",
   "id": "8b00f000",
   "metadata": {},
   "source": [
    "### Question 2"
   ]
  },
  {
   "cell_type": "markdown",
   "id": "bacdc1db",
   "metadata": {},
   "source": [
    "#### 2a"
   ]
  },
  {
   "cell_type": "code",
   "execution_count": 11,
   "id": "be2f2c71",
   "metadata": {},
   "outputs": [
    {
     "name": "stdout",
     "output_type": "stream",
     "text": [
      "k can be equal to: \n",
      "-5/2\n",
      "5/2\n",
      "pi/(2*t)\n",
      "3*pi/(2*t)\n"
     ]
    }
   ],
   "source": [
    "k = symbols(\"k\")\n",
    "t = symbols(\"t\")\n",
    "\n",
    "diffEQ = 4 * diff(cos(k*t), t, 2) + 25 * cos(k*t)\n",
    "\n",
    "print(\"k can be equal to: \")\n",
    "for i in solve(diffEQ, k):\n",
    "    print(i)"
   ]
  },
  {
   "cell_type": "markdown",
   "id": "23bc68a6",
   "metadata": {},
   "source": [
    "#### 2b"
   ]
  },
  {
   "cell_type": "code",
   "execution_count": 23,
   "id": "357bbf0f",
   "metadata": {},
   "outputs": [
    {
     "name": "stdout",
     "output_type": "stream",
     "text": [
      "For the family of functions y = Asin(kt)+Bcos(kt), every member is a solution for k = -5/2.\n",
      "For the family of functions y = Asin(kt)+Bcos(kt), every member is a solution for k = 5/2.\n",
      "For the family of functions y = Asin(kt)+Bcos(kt), every member is not a solution for k = pi/(2*t).\n",
      "For the family of functions y = Asin(kt)+Bcos(kt), every member is not a solution for k = 3*pi/(2*t).\n"
     ]
    }
   ],
   "source": [
    "A = symbols(\"A\")\n",
    "B = symbols(\"B\")\n",
    "\n",
    "val = A*sin(k*t) + B*cos(k*t)\n",
    "\n",
    "ffMembers = solve(diffEQ, k)\n",
    "\n",
    "for member in ffMembers:\n",
    "    ffMember = (4*diff(val, t, 2) + 25*val).subs(k, member)\n",
    "    print(\"For the family of functions y = Asin(kt)+Bcos(kt),\", end=\" \")\n",
    "    if ffMember == 0:\n",
    "        print(f\"every member is a solution for k = {member}.\")\n",
    "    else:\n",
    "        print(f\"every member is not a solution for k = {member}.\")"
   ]
  },
  {
   "cell_type": "markdown",
   "id": "1fb8b9b8",
   "metadata": {},
   "source": [
    "### Question 3"
   ]
  },
  {
   "cell_type": "markdown",
   "id": "ccffd0d0",
   "metadata": {},
   "source": [
    "#### 3a"
   ]
  },
  {
   "cell_type": "code",
   "execution_count": 30,
   "id": "9ebb9309",
   "metadata": {},
   "outputs": [
    {
     "name": "stdout",
     "output_type": "stream",
     "text": [
      "-18*(t - 2)**9/(2*t + 1)**10 + 9*(t - 2)**8/(2*t + 1)**9\n"
     ]
    }
   ],
   "source": [
    "g = ((t - 2) / ((2 * t) + 1))**9\n",
    "firstGDerivative = diff(g, t)\n",
    "\n",
    "print(firstGDerivative)"
   ]
  },
  {
   "cell_type": "markdown",
   "id": "baa2be1a",
   "metadata": {},
   "source": [
    "#### 3b"
   ]
  },
  {
   "cell_type": "code",
   "execution_count": 31,
   "id": "ed50b7a1",
   "metadata": {},
   "outputs": [
    {
     "name": "stdout",
     "output_type": "stream",
     "text": [
      "45*(t - 2)**8/(2*t + 1)**10\n"
     ]
    }
   ],
   "source": [
    "print(simplify(firstGDerivative))"
   ]
  },
  {
   "cell_type": "markdown",
   "id": "f78847a1",
   "metadata": {},
   "source": [
    "#### 3c"
   ]
  },
  {
   "cell_type": "code",
   "execution_count": 33,
   "id": "9fff1823",
   "metadata": {},
   "outputs": [
    {
     "name": "stdout",
     "output_type": "stream",
     "text": [
      "g has a horizontal tangent line at x = 2\n"
     ]
    }
   ],
   "source": [
    "hoizontalPoint = solve(firstGDerivative, t)\n",
    "print(f\"g has a horizontal tangent line at x = {hoizontalPoint[0]}\")"
   ]
  },
  {
   "cell_type": "markdown",
   "id": "ded46854",
   "metadata": {},
   "source": [
    "#### 3d"
   ]
  },
  {
   "cell_type": "code",
   "execution_count": 28,
   "id": "629e860f",
   "metadata": {},
   "outputs": [
    {
     "name": "stdout",
     "output_type": "stream",
     "text": [
      "(2*t + 1)**5*(8*t - 4)*(t**2 - t + 2)**3 + 10*(2*t + 1)**4*(t**2 - t + 2)**4\n"
     ]
    }
   ],
   "source": [
    "f = ((2 * t) + 1)**5 * ((t**2) - t + 2)**4\n",
    "firstFDerivative = diff(f, t)\n",
    "\n",
    "print(firstFDerivative)"
   ]
  },
  {
   "cell_type": "markdown",
   "id": "bba9a046",
   "metadata": {},
   "source": [
    "#### 3e"
   ]
  },
  {
   "cell_type": "code",
   "execution_count": 34,
   "id": "9fec14c5",
   "metadata": {},
   "outputs": [
    {
     "name": "stdout",
     "output_type": "stream",
     "text": [
      "(2*t + 1)**4*(t**2 - t + 2)**3*(10*t**2 - 10*t + 4*(2*t - 1)*(2*t + 1) + 20)\n"
     ]
    }
   ],
   "source": [
    "print(simplify(firstFDerivative))"
   ]
  },
  {
   "cell_type": "markdown",
   "id": "7eb41f76",
   "metadata": {},
   "source": [
    "#### 3f"
   ]
  },
  {
   "cell_type": "code",
   "execution_count": 35,
   "id": "c267bbc0",
   "metadata": {},
   "outputs": [
    {
     "name": "stdout",
     "output_type": "stream",
     "text": [
      "2*(2*t + 1)**4*(t**2 - t + 2)**3*(13*t**2 - 5*t + 8)\n"
     ]
    }
   ],
   "source": [
    "print(factor(firstFDerivative))"
   ]
  },
  {
   "cell_type": "markdown",
   "id": "ddb7336c",
   "metadata": {},
   "source": [
    "#### 3g"
   ]
  },
  {
   "cell_type": "code",
   "execution_count": 36,
   "id": "d825588b",
   "metadata": {},
   "outputs": [
    {
     "name": "stdout",
     "output_type": "stream",
     "text": [
      "I think the factored version would be more useful for locating horizontal tangent lines. The horizontal tangent lines would be the value of whereever the first derivative of the function equals 0\n"
     ]
    }
   ],
   "source": [
    "print(\"I think the factored version would be more useful for locating horizontal tangent lines. The horizontal tangent lines would be the value of whereever the first derivative of the function equals 0\")"
   ]
  },
  {
   "cell_type": "markdown",
   "id": "f9fde57e",
   "metadata": {},
   "source": [
    "### Question 4"
   ]
  },
  {
   "cell_type": "markdown",
   "id": "7e54bb48",
   "metadata": {},
   "source": [
    "#### 4a"
   ]
  },
  {
   "cell_type": "code",
   "execution_count": null,
   "id": "3ce0b4af",
   "metadata": {},
   "outputs": [],
   "source": [
    "#ROC "
   ]
  },
  {
   "cell_type": "markdown",
   "id": "cd9781f6",
   "metadata": {},
   "source": [
    "#### 4b"
   ]
  },
  {
   "cell_type": "code",
   "execution_count": null,
   "id": "918804cf",
   "metadata": {},
   "outputs": [],
   "source": [
    "#ROC = 0"
   ]
  },
  {
   "cell_type": "markdown",
   "id": "f4a58c47",
   "metadata": {},
   "source": [
    "#### 4c"
   ]
  },
  {
   "cell_type": "code",
   "execution_count": null,
   "id": "8bda340d",
   "metadata": {},
   "outputs": [],
   "source": [
    "#graph"
   ]
  },
  {
   "cell_type": "markdown",
   "id": "3c94da4c",
   "metadata": {},
   "source": [
    "#### 4d"
   ]
  },
  {
   "cell_type": "code",
   "execution_count": null,
   "id": "dacc44c7",
   "metadata": {},
   "outputs": [],
   "source": [
    "#verify (c)"
   ]
  }
 ],
 "metadata": {
  "kernelspec": {
   "display_name": "Python 3.10.4 64-bit",
   "language": "python",
   "name": "python3"
  },
  "language_info": {
   "codemirror_mode": {
    "name": "ipython",
    "version": 3
   },
   "file_extension": ".py",
   "mimetype": "text/x-python",
   "name": "python",
   "nbconvert_exporter": "python",
   "pygments_lexer": "ipython3",
   "version": "3.10.4"
  },
  "vscode": {
   "interpreter": {
    "hash": "916dbcbb3f70747c44a77c7bcd40155683ae19c65e1c03b4aa3499c5328201f1"
   }
  }
 },
 "nbformat": 4,
 "nbformat_minor": 5
}

{
 "cells": [
  {
   "cell_type": "markdown",
   "id": "20c00fa5",
   "metadata": {},
   "source": [
    "## MATH 151 Lab 7"
   ]
  },
  {
   "cell_type": "markdown",
   "id": "7c243ef1",
   "metadata": {},
   "source": [
    "Sumit Nalavade, Ronit Dhawan, Charlie McLaughlin, Michael Perez\n",
    "Section 526"
   ]
  },
  {
   "cell_type": "code",
   "execution_count": 3,
   "id": "cf836732",
   "metadata": {},
   "outputs": [],
   "source": [
    "from sympy import *\n",
    "from sympy.plotting import (plot,plot_parametric)"
   ]
  },
  {
   "cell_type": "markdown",
   "id": "3169990f",
   "metadata": {},
   "source": [
    "### Question 1"
   ]
  },
  {
   "cell_type": "markdown",
   "id": "f0561a86",
   "metadata": {},
   "source": [
    "#### 1a"
   ]
  },
  {
   "cell_type": "code",
   "execution_count": 16,
   "id": "0889599a",
   "metadata": {},
   "outputs": [
    {
     "name": "stdout",
     "output_type": "stream",
     "text": [
      "Critical Values:\n",
      "x = 0\n",
      "x = 2\n"
     ]
    }
   ],
   "source": [
    "x = symbols(\"x\", real=True)\n",
    "\n",
    "expr1 = (8 - (x**2))\n",
    "expr2 = (5 * (E ** (-((x-2)/2) ** 2)))\n",
    "\n",
    "criticalValues = []\n",
    "\n",
    "print(\"Critical Values:\")\n",
    "\n",
    "for expr in [expr1, expr2]:\n",
    "    df = diff(expr, x)\n",
    "    cvals = solve(df, x)\n",
    "    \n",
    "    for cval in cvals:\n",
    "        criticalValues.append(cval)\n",
    "        print(f\"x = {cval}\")\n"
   ]
  },
  {
   "cell_type": "markdown",
   "id": "efdd616f",
   "metadata": {},
   "source": [
    "#### 1b"
   ]
  },
  {
   "cell_type": "code",
   "execution_count": 17,
   "id": "582449e5",
   "metadata": {},
   "outputs": [
    {
     "name": "stdout",
     "output_type": "stream",
     "text": [
      "The absolute min of f on the interval [-5,5] is -17\n",
      "The absolute max of f on the interval [-5,5] is 5\n"
     ]
    }
   ],
   "source": [
    "extremaValues = []\n",
    "criticalValues = criticalValues.copy()\n",
    "criticalValues.append(-5)\n",
    "criticalValues.append(5)\n",
    "\n",
    "for cval in criticalValues:\n",
    "    if(cval < 0):\n",
    "        extremaValues.append(expr1.subs(x, cval))\n",
    "    else:\n",
    "        extremaValues.append(expr2.subs(x, cval))\n",
    "\n",
    "extremaValues.sort()\n",
    "\n",
    "print(f\"The absolute min of f on the interval [-5,5] is {min(extremaValues)}\")\n",
    "print(f\"The absolute max of f on the interval [-5,5] is {max(extremaValues)}\")"
   ]
  },
  {
   "cell_type": "markdown",
   "id": "0721fb00",
   "metadata": {},
   "source": [
    "#### 1c"
   ]
  },
  {
   "cell_type": "code",
   "execution_count": 18,
   "id": "dd38ebc1",
   "metadata": {},
   "outputs": [
    {
     "name": "stdout",
     "output_type": "stream",
     "text": [
      "The absolute min of f on the interval [-5,5] is -92\n",
      "The absolute max of f on the interval [-5,5] is 5\n"
     ]
    }
   ],
   "source": [
    "extremaValues = []\n",
    "criticalValues = criticalValues.copy()\n",
    "criticalValues.append(-10)\n",
    "criticalValues.append(10)\n",
    "\n",
    "for cval in criticalValues:\n",
    "    if(cval < 0):\n",
    "        extremaValues.append(expr1.subs(x, cval))\n",
    "    else:\n",
    "        extremaValues.append(expr2.subs(x, cval))\n",
    "\n",
    "print(f\"The absolute min of f on the interval [-5,5] is {min(extremaValues)}\")\n",
    "print(f\"The absolute max of f on the interval [-5,5] is {max(extremaValues)}\")"
   ]
  },
  {
   "cell_type": "markdown",
   "id": "2f0eb3e3",
   "metadata": {},
   "source": [
    "#### 1d"
   ]
  },
  {
   "cell_type": "code",
   "execution_count": 19,
   "id": "ec6e60c6",
   "metadata": {},
   "outputs": [
    {
     "ename": "NameError",
     "evalue": "name 'line3' is not defined",
     "output_type": "error",
     "traceback": [
      "\u001b[0;31m---------------------------------------------------------------------------\u001b[0m",
      "\u001b[0;31mNameError\u001b[0m                                 Traceback (most recent call last)",
      "\u001b[1;32m/home/sumitn/code/FreshmanEngineering/MATH151/Lab7.ipynb Cell 12\u001b[0m in \u001b[0;36m<cell line: 4>\u001b[0;34m()\u001b[0m\n\u001b[1;32m      <a href='vscode-notebook-cell://wsl%2Bubuntu-22.04/home/sumitn/code/FreshmanEngineering/MATH151/Lab7.ipynb#X14sdnNjb2RlLXJlbW90ZQ%3D%3D?line=0'>1</a>\u001b[0m line1 \u001b[39m=\u001b[39m (expr1, (x, \u001b[39m-\u001b[39m\u001b[39m15\u001b[39m , \u001b[39m0\u001b[39m))\n\u001b[1;32m      <a href='vscode-notebook-cell://wsl%2Bubuntu-22.04/home/sumitn/code/FreshmanEngineering/MATH151/Lab7.ipynb#X14sdnNjb2RlLXJlbW90ZQ%3D%3D?line=1'>2</a>\u001b[0m line2 \u001b[39m=\u001b[39m (expr2, (x, \u001b[39m0\u001b[39m, \u001b[39m15\u001b[39m))\n\u001b[0;32m----> <a href='vscode-notebook-cell://wsl%2Bubuntu-22.04/home/sumitn/code/FreshmanEngineering/MATH151/Lab7.ipynb#X14sdnNjb2RlLXJlbW90ZQ%3D%3D?line=3'>4</a>\u001b[0m plot(line1, line2, line3, line4, ylim \u001b[39m=\u001b[39m (\u001b[39m-\u001b[39m\u001b[39m10\u001b[39m, \u001b[39m10\u001b[39m))\n",
      "\u001b[0;31mNameError\u001b[0m: name 'line3' is not defined"
     ]
    }
   ],
   "source": [
    "line1 = (expr1, (x, -15 , 0))\n",
    "line2 = (expr2, (x, 0, 15))\n",
    "\n",
    "plot(line1, line2, ylim = (-115, 15))"
   ]
  },
  {
   "cell_type": "markdown",
   "id": "8b00f000",
   "metadata": {},
   "source": [
    "### Question 2"
   ]
  },
  {
   "cell_type": "markdown",
   "id": "bacdc1db",
   "metadata": {},
   "source": [
    "#### 2a"
   ]
  },
  {
   "cell_type": "code",
   "execution_count": null,
   "id": "be2f2c71",
   "metadata": {},
   "outputs": [],
   "source": []
  },
  {
   "cell_type": "markdown",
   "id": "23bc68a6",
   "metadata": {},
   "source": [
    "#### 2b"
   ]
  },
  {
   "cell_type": "code",
   "execution_count": null,
   "id": "357bbf0f",
   "metadata": {},
   "outputs": [],
   "source": []
  },
  {
   "cell_type": "markdown",
   "id": "94eb2168",
   "metadata": {},
   "source": [
    "#### 2c"
   ]
  },
  {
   "cell_type": "code",
   "execution_count": null,
   "id": "25fa3475",
   "metadata": {},
   "outputs": [],
   "source": []
  },
  {
   "cell_type": "markdown",
   "id": "7e489e8f",
   "metadata": {},
   "source": [
    "#### 2d"
   ]
  },
  {
   "cell_type": "code",
   "execution_count": null,
   "id": "fa3bed5b",
   "metadata": {},
   "outputs": [],
   "source": []
  },
  {
   "cell_type": "markdown",
   "id": "1fb8b9b8",
   "metadata": {},
   "source": [
    "### Question 3"
   ]
  },
  {
   "cell_type": "markdown",
   "id": "ccffd0d0",
   "metadata": {},
   "source": [
    "#### 3a"
   ]
  },
  {
   "cell_type": "code",
   "execution_count": null,
   "id": "9ebb9309",
   "metadata": {},
   "outputs": [],
   "source": []
  },
  {
   "cell_type": "markdown",
   "id": "baa2be1a",
   "metadata": {},
   "source": [
    "#### 3b"
   ]
  },
  {
   "cell_type": "code",
   "execution_count": null,
   "id": "ed50b7a1",
   "metadata": {},
   "outputs": [],
   "source": []
  },
  {
   "cell_type": "markdown",
   "id": "e7e04f9d",
   "metadata": {},
   "source": [
    "#### 3c"
   ]
  },
  {
   "cell_type": "code",
   "execution_count": null,
   "id": "d3cb4575",
   "metadata": {},
   "outputs": [],
   "source": []
  },
  {
   "cell_type": "markdown",
   "id": "f78847a1",
   "metadata": {},
   "source": [
    "#### 3d"
   ]
  },
  {
   "cell_type": "code",
   "execution_count": null,
   "id": "9fff1823",
   "metadata": {},
   "outputs": [],
   "source": []
  }
 ],
 "metadata": {
  "kernelspec": {
   "display_name": "Python 3.10.4 64-bit",
   "language": "python",
   "name": "python3"
  },
  "language_info": {
   "codemirror_mode": {
    "name": "ipython",
    "version": 3
   },
   "file_extension": ".py",
   "mimetype": "text/x-python",
   "name": "python",
   "nbconvert_exporter": "python",
   "pygments_lexer": "ipython3",
   "version": "3.10.4"
  },
  "vscode": {
   "interpreter": {
    "hash": "916dbcbb3f70747c44a77c7bcd40155683ae19c65e1c03b4aa3499c5328201f1"
   }
  }
 },
 "nbformat": 4,
 "nbformat_minor": 5
}

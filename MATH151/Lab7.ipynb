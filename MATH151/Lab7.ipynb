{
 "cells": [
  {
   "cell_type": "markdown",
   "id": "20c00fa5",
   "metadata": {},
   "source": [
    "## MATH 151 Lab 7"
   ]
  },
  {
   "cell_type": "markdown",
   "id": "7c243ef1",
   "metadata": {},
   "source": [
    "Sumit Nalavade, Ronit Dhawan, Charlie McLaughlin, Michael Perez\n",
    "Section 526"
   ]
  },
  {
   "cell_type": "code",
   "execution_count": 1,
   "id": "cf836732",
   "metadata": {},
   "outputs": [],
   "source": [
    "from sympy import *\n",
    "from sympy.plotting import (plot,plot_parametric)"
   ]
  },
  {
   "cell_type": "markdown",
   "id": "3169990f",
   "metadata": {},
   "source": [
    "### Question 1"
   ]
  },
  {
   "cell_type": "markdown",
   "id": "f0561a86",
   "metadata": {},
   "source": [
    "#### 1a"
   ]
  },
  {
   "cell_type": "code",
   "execution_count": 2,
   "id": "0889599a",
   "metadata": {},
   "outputs": [
    {
     "name": "stdout",
     "output_type": "stream",
     "text": [
      "Critical Values:\n",
      "x = 2.41784619385985\n",
      "x = 4.78643377270907\n"
     ]
    }
   ],
   "source": [
    "criticalValues = []\n",
    "\n",
    "x = symbols(\"x\")\n",
    "\n",
    "f1 = 8-x**2\n",
    "f2 = 5*exp(-1*((x-2)/2)**2)+x\n",
    "\n",
    "diff1 = diff(f1, x)\n",
    "diff2 = diff(f2, x)\n",
    "\n",
    "cval1 = nsolve(diff2, x, 2)\n",
    "cval2 = nsolve(diff2, x, 4)\n",
    "\n",
    "criticalValues.append(cval1)\n",
    "criticalValues.append(cval2)\n",
    "\n",
    "print(\"Critical Values:\")\n",
    "print(f\"x = {cval1}\")\n",
    "print(f\"x = {cval2}\")"
   ]
  },
  {
   "cell_type": "markdown",
   "id": "efdd616f",
   "metadata": {},
   "source": [
    "#### 1b"
   ]
  },
  {
   "cell_type": "code",
   "execution_count": 3,
   "id": "582449e5",
   "metadata": {},
   "outputs": [
    {
     "name": "stdout",
     "output_type": "stream",
     "text": [
      "The absolute min of f on the interval [-5,5] is -17\n",
      "The absolute max of f on the interval [-5,5] is 7.20429639824017\n"
     ]
    }
   ],
   "source": [
    "extremaValues = []\n",
    "criticalValues.append(5)\n",
    "criticalValues.append(-5)\n",
    "\n",
    "for cval in criticalValues:\n",
    "    if(cval < 0):\n",
    "        extremaValues.append(f1.subs(x, cval))\n",
    "    else:\n",
    "        extremaValues.append(f2.subs(x, cval))\n",
    "\n",
    "print(f\"The absolute min of f on the interval [-5,5] is {min(extremaValues)}\")\n",
    "print(f\"The absolute max of f on the interval [-5,5] is {max(extremaValues)}\")"
   ]
  },
  {
   "cell_type": "markdown",
   "id": "0721fb00",
   "metadata": {},
   "source": [
    "#### 1c"
   ]
  },
  {
   "cell_type": "code",
   "execution_count": 5,
   "id": "dd38ebc1",
   "metadata": {},
   "outputs": [
    {
     "name": "stdout",
     "output_type": "stream",
     "text": [
      "The absolute min of f on the interval [-10, 10] is -92\n",
      "The absolute max of f on the interval [-10, 10] is 5*exp(-16) + 10\n"
     ]
    }
   ],
   "source": [
    "extremaValues = []\n",
    "criticalValues.append(10)\n",
    "criticalValues.append(-10)\n",
    "\n",
    "for cval in criticalValues:\n",
    "    if(cval < 0):\n",
    "        extremaValues.append(f1.subs(x, cval))\n",
    "    else:\n",
    "        extremaValues.append(f2.subs(x, cval))\n",
    "\n",
    "print(f\"The absolute min of f on the interval [-10, 10] is {min(extremaValues)}\")\n",
    "print(f\"The absolute max of f on the interval [-10, 10] is {max(extremaValues)}\")"
   ]
  },
  {
   "cell_type": "markdown",
   "id": "2f0eb3e3",
   "metadata": {},
   "source": [
    "#### 1d"
   ]
  },
  {
   "cell_type": "code",
   "execution_count": 6,
   "id": "ec6e60c6",
   "metadata": {},
   "outputs": [
    {
     "ename": "ValueError",
     "evalue": "The TextBackend supports only one graph per Plot.",
     "output_type": "error",
     "traceback": [
      "\u001b[0;31m---------------------------------------------------------------------------\u001b[0m",
      "\u001b[0;31mValueError\u001b[0m                                Traceback (most recent call last)",
      "\u001b[1;32m/home/sumitn/code/FreshmanEngineering/MATH151/Lab7.ipynb Cell 12\u001b[0m in \u001b[0;36m<cell line: 1>\u001b[0;34m()\u001b[0m\n\u001b[0;32m----> <a href='vscode-notebook-cell://wsl%2Bubuntu-22.04/home/sumitn/code/FreshmanEngineering/MATH151/Lab7.ipynb#X14sdnNjb2RlLXJlbW90ZQ%3D%3D?line=0'>1</a>\u001b[0m plot((f1, (x, \u001b[39m-\u001b[39;49m\u001b[39m15\u001b[39;49m, \u001b[39m0\u001b[39;49m)), (f2, (x, \u001b[39m0\u001b[39;49m, \u001b[39m15\u001b[39;49m)), ylim\u001b[39m=\u001b[39;49m(\u001b[39m-\u001b[39;49m\u001b[39m100\u001b[39;49m, \u001b[39m20\u001b[39;49m))\n",
      "File \u001b[0;32m~/.local/lib/python3.10/site-packages/sympy/plotting/plot.py:1873\u001b[0m, in \u001b[0;36mplot\u001b[0;34m(show, *args, **kwargs)\u001b[0m\n\u001b[1;32m   1871\u001b[0m plots \u001b[39m=\u001b[39m Plot(\u001b[39m*\u001b[39mseries, \u001b[39m*\u001b[39m\u001b[39m*\u001b[39mkwargs)\n\u001b[1;32m   1872\u001b[0m \u001b[39mif\u001b[39;00m show:\n\u001b[0;32m-> 1873\u001b[0m     plots\u001b[39m.\u001b[39;49mshow()\n\u001b[1;32m   1874\u001b[0m \u001b[39mreturn\u001b[39;00m plots\n",
      "File \u001b[0;32m~/.local/lib/python3.10/site-packages/sympy/plotting/plot.py:251\u001b[0m, in \u001b[0;36mPlot.show\u001b[0;34m(self)\u001b[0m\n\u001b[1;32m    249\u001b[0m     \u001b[39mself\u001b[39m\u001b[39m.\u001b[39m_backend\u001b[39m.\u001b[39mclose()\n\u001b[1;32m    250\u001b[0m \u001b[39mself\u001b[39m\u001b[39m.\u001b[39m_backend \u001b[39m=\u001b[39m \u001b[39mself\u001b[39m\u001b[39m.\u001b[39mbackend(\u001b[39mself\u001b[39m)\n\u001b[0;32m--> 251\u001b[0m \u001b[39mself\u001b[39;49m\u001b[39m.\u001b[39;49m_backend\u001b[39m.\u001b[39;49mshow()\n",
      "File \u001b[0;32m~/.local/lib/python3.10/site-packages/sympy/plotting/plot.py:1575\u001b[0m, in \u001b[0;36mTextBackend.show\u001b[0;34m(self)\u001b[0m\n\u001b[1;32m   1573\u001b[0m     \u001b[39mreturn\u001b[39;00m\n\u001b[1;32m   1574\u001b[0m \u001b[39mif\u001b[39;00m \u001b[39mlen\u001b[39m(\u001b[39mself\u001b[39m\u001b[39m.\u001b[39mparent\u001b[39m.\u001b[39m_series) \u001b[39m!=\u001b[39m \u001b[39m1\u001b[39m:\n\u001b[0;32m-> 1575\u001b[0m     \u001b[39mraise\u001b[39;00m \u001b[39mValueError\u001b[39;00m(\n\u001b[1;32m   1576\u001b[0m         \u001b[39m'\u001b[39m\u001b[39mThe TextBackend supports only one graph per Plot.\u001b[39m\u001b[39m'\u001b[39m)\n\u001b[1;32m   1577\u001b[0m \u001b[39melif\u001b[39;00m \u001b[39mnot\u001b[39;00m \u001b[39misinstance\u001b[39m(\u001b[39mself\u001b[39m\u001b[39m.\u001b[39mparent\u001b[39m.\u001b[39m_series[\u001b[39m0\u001b[39m], LineOver1DRangeSeries):\n\u001b[1;32m   1578\u001b[0m     \u001b[39mraise\u001b[39;00m \u001b[39mValueError\u001b[39;00m(\n\u001b[1;32m   1579\u001b[0m         \u001b[39m'\u001b[39m\u001b[39mThe TextBackend supports only expressions over a 1D range\u001b[39m\u001b[39m'\u001b[39m)\n",
      "\u001b[0;31mValueError\u001b[0m: The TextBackend supports only one graph per Plot."
     ]
    }
   ],
   "source": [
    "plot((f1, (x, -15, 0)), (f2, (x, 0, 15)), ylim=(-100, 20))"
   ]
  },
  {
   "cell_type": "markdown",
   "id": "8b00f000",
   "metadata": {},
   "source": [
    "### Question 2"
   ]
  },
  {
   "cell_type": "markdown",
   "id": "bacdc1db",
   "metadata": {},
   "source": [
    "#### 2a"
   ]
  },
  {
   "cell_type": "code",
   "execution_count": 7,
   "id": "be2f2c71",
   "metadata": {},
   "outputs": [
    {
     "name": "stdout",
     "output_type": "stream",
     "text": [
      "v has an absolute max at r = 0.666666666666667*r0\n"
     ]
    }
   ],
   "source": [
    "r0 = symbols(\"r0\")\n",
    "r = symbols(\"r\")\n",
    "k = symbols(\"k\")\n",
    "\n",
    "y = k * (r0-r)*r**2\n",
    "\n",
    "cvalFloat = [i.evalf() for i in solve(diff(y,r), r)]\n",
    "print(f\"v has an absolute max at r = {cvalFloat[1]}\")"
   ]
  },
  {
   "cell_type": "markdown",
   "id": "23bc68a6",
   "metadata": {},
   "source": [
    "#### 2b"
   ]
  },
  {
   "cell_type": "code",
   "execution_count": 8,
   "id": "357bbf0f",
   "metadata": {},
   "outputs": [
    {
     "name": "stdout",
     "output_type": "stream",
     "text": [
      "v has an absolute max of 0.148148148148148*k*r0**3\n"
     ]
    }
   ],
   "source": [
    "print(f\"v has an absolute max of {y.subs(r, cvalFloat[1])}\")"
   ]
  },
  {
   "cell_type": "markdown",
   "id": "94eb2168",
   "metadata": {},
   "source": [
    "#### 2c"
   ]
  },
  {
   "cell_type": "code",
   "execution_count": 9,
   "id": "25fa3475",
   "metadata": {},
   "outputs": [
    {
     "ename": "TypeError",
     "evalue": "cannot determine truth value of Relational",
     "output_type": "error",
     "traceback": [
      "\u001b[0;31m---------------------------------------------------------------------------\u001b[0m",
      "\u001b[0;31mTypeError\u001b[0m                                 Traceback (most recent call last)",
      "\u001b[1;32m/home/sumitn/code/FreshmanEngineering/MATH151/Lab7.ipynb Cell 19\u001b[0m in \u001b[0;36m<cell line: 10>\u001b[0;34m()\u001b[0m\n\u001b[1;32m      <a href='vscode-notebook-cell://wsl%2Bubuntu-22.04/home/sumitn/code/FreshmanEngineering/MATH151/Lab7.ipynb#X24sdnNjb2RlLXJlbW90ZQ%3D%3D?line=6'>7</a>\u001b[0m \u001b[39mfor\u001b[39;00m i \u001b[39min\u001b[39;00m \u001b[39mrange\u001b[39m(\u001b[39mlen\u001b[39m(vals)):\n\u001b[1;32m      <a href='vscode-notebook-cell://wsl%2Bubuntu-22.04/home/sumitn/code/FreshmanEngineering/MATH151/Lab7.ipynb#X24sdnNjb2RlLXJlbW90ZQ%3D%3D?line=7'>8</a>\u001b[0m     yvals\u001b[39m.\u001b[39mappend(y\u001b[39m.\u001b[39msubs(r, vals[i]))\n\u001b[0;32m---> <a href='vscode-notebook-cell://wsl%2Bubuntu-22.04/home/sumitn/code/FreshmanEngineering/MATH151/Lab7.ipynb#X24sdnNjb2RlLXJlbW90ZQ%3D%3D?line=9'>10</a>\u001b[0m yvals\u001b[39m.\u001b[39;49msort()\n\u001b[1;32m     <a href='vscode-notebook-cell://wsl%2Bubuntu-22.04/home/sumitn/code/FreshmanEngineering/MATH151/Lab7.ipynb#X24sdnNjb2RlLXJlbW90ZQ%3D%3D?line=11'>12</a>\u001b[0m \u001b[39mprint\u001b[39m(\u001b[39mf\u001b[39m\u001b[39m\"\u001b[39m\u001b[39mThe absolute max is \u001b[39m\u001b[39m{\u001b[39;00myvals[\u001b[39mlen\u001b[39m(yvals)\u001b[39m-\u001b[39m\u001b[39m1\u001b[39m]\u001b[39m}\u001b[39;00m\u001b[39m and is at r = \u001b[39m\u001b[39m{\u001b[39;00mvals[\u001b[39m1\u001b[39m]\u001b[39m}\u001b[39;00m\u001b[39m\"\u001b[39m)\n",
      "File \u001b[0;32m~/.local/lib/python3.10/site-packages/sympy/core/relational.py:511\u001b[0m, in \u001b[0;36mRelational.__bool__\u001b[0;34m(self)\u001b[0m\n\u001b[1;32m    510\u001b[0m \u001b[39mdef\u001b[39;00m \u001b[39m__bool__\u001b[39m(\u001b[39mself\u001b[39m):\n\u001b[0;32m--> 511\u001b[0m     \u001b[39mraise\u001b[39;00m \u001b[39mTypeError\u001b[39;00m(\u001b[39m\"\u001b[39m\u001b[39mcannot determine truth value of Relational\u001b[39m\u001b[39m\"\u001b[39m)\n",
      "\u001b[0;31mTypeError\u001b[0m: cannot determine truth value of Relational"
     ]
    }
   ],
   "source": [
    "r0 = 0.65\n",
    "k = 15000\n",
    "\n",
    "vals = [i.evalf() for i in solve(diff(y, r), r)]\n",
    "yvals = []\n",
    "\n",
    "for i in range(len(vals)):\n",
    "    yvals.append(y.subs(r, vals[i]))\n",
    "\n",
    "yvals.sort()\n",
    "    \n",
    "print(f\"The absolute max is {yvals[len(yvals)-1]} and is at r = {vals[1]}\")"
   ]
  },
  {
   "cell_type": "markdown",
   "id": "7e489e8f",
   "metadata": {},
   "source": [
    "#### 2d"
   ]
  },
  {
   "cell_type": "code",
   "execution_count": 10,
   "id": "fa3bed5b",
   "metadata": {},
   "outputs": [
    {
     "ename": "ValueError",
     "evalue": "The same variable should be used in all univariate expressions being plotted.",
     "output_type": "error",
     "traceback": [
      "\u001b[0;31m---------------------------------------------------------------------------\u001b[0m",
      "\u001b[0;31mValueError\u001b[0m                                Traceback (most recent call last)",
      "\u001b[1;32m/home/sumitn/code/FreshmanEngineering/MATH151/Lab7.ipynb Cell 21\u001b[0m in \u001b[0;36m<cell line: 1>\u001b[0;34m()\u001b[0m\n\u001b[0;32m----> <a href='vscode-notebook-cell://wsl%2Bubuntu-22.04/home/sumitn/code/FreshmanEngineering/MATH151/Lab7.ipynb#X26sdnNjb2RlLXJlbW90ZQ%3D%3D?line=0'>1</a>\u001b[0m vplot \u001b[39m=\u001b[39m plot(y, (r, \u001b[39m0\u001b[39;49m, r0))\n",
      "File \u001b[0;32m~/.local/lib/python3.10/site-packages/sympy/plotting/plot.py:1861\u001b[0m, in \u001b[0;36mplot\u001b[0;34m(show, *args, **kwargs)\u001b[0m\n\u001b[1;32m   1859\u001b[0m         free \u001b[39m|\u001b[39m\u001b[39m=\u001b[39m a\u001b[39m.\u001b[39mfree_symbols\n\u001b[1;32m   1860\u001b[0m         \u001b[39mif\u001b[39;00m \u001b[39mlen\u001b[39m(free) \u001b[39m>\u001b[39m \u001b[39m1\u001b[39m:\n\u001b[0;32m-> 1861\u001b[0m             \u001b[39mraise\u001b[39;00m \u001b[39mValueError\u001b[39;00m(\n\u001b[1;32m   1862\u001b[0m                 \u001b[39m'\u001b[39m\u001b[39mThe same variable should be used in all \u001b[39m\u001b[39m'\u001b[39m\n\u001b[1;32m   1863\u001b[0m                 \u001b[39m'\u001b[39m\u001b[39munivariate expressions being plotted.\u001b[39m\u001b[39m'\u001b[39m)\n\u001b[1;32m   1864\u001b[0m x \u001b[39m=\u001b[39m free\u001b[39m.\u001b[39mpop() \u001b[39mif\u001b[39;00m free \u001b[39melse\u001b[39;00m Symbol(\u001b[39m'\u001b[39m\u001b[39mx\u001b[39m\u001b[39m'\u001b[39m)\n\u001b[1;32m   1865\u001b[0m kwargs\u001b[39m.\u001b[39msetdefault(\u001b[39m'\u001b[39m\u001b[39mxlabel\u001b[39m\u001b[39m'\u001b[39m, x)\n",
      "\u001b[0;31mValueError\u001b[0m: The same variable should be used in all univariate expressions being plotted."
     ]
    }
   ],
   "source": [
    "vplot = plot(y, (r, 0, r0))"
   ]
  },
  {
   "cell_type": "markdown",
   "id": "1fb8b9b8",
   "metadata": {},
   "source": [
    "### Question 3"
   ]
  },
  {
   "cell_type": "markdown",
   "id": "ccffd0d0",
   "metadata": {},
   "source": [
    "#### 3a"
   ]
  },
  {
   "cell_type": "code",
   "execution_count": 11,
   "id": "9ebb9309",
   "metadata": {},
   "outputs": [
    {
     "name": "stdout",
     "output_type": "stream",
     "text": [
      "The derivative of f(x) is 1/(x**2 + 1)\n",
      "The derivative of g(x) is -1/(x**2 + 1)\n",
      "The derivative of f(x) + g(x) simplified is 0\n"
     ]
    }
   ],
   "source": [
    "x = symbols(\"x\", positive=True)\n",
    "\n",
    "fx = atan(x)\n",
    "gx = acot(x)\n",
    "\n",
    "fprime = diff(fx, x)\n",
    "gprime = diff(gx, x)\n",
    "\n",
    "fgprime = simplify(fprime + gprime)\n",
    "\n",
    "print(f\"The derivative of f(x) is {fprime}\")\n",
    "print(f\"The derivative of g(x) is {gprime}\")\n",
    "\n",
    "print(f\"The derivative of f(x) + g(x) simplified is {fgprime}\")"
   ]
  },
  {
   "cell_type": "markdown",
   "id": "baa2be1a",
   "metadata": {},
   "source": [
    "#### 3b"
   ]
  },
  {
   "cell_type": "code",
   "execution_count": 12,
   "id": "ed50b7a1",
   "metadata": {},
   "outputs": [
    {
     "name": "stdout",
     "output_type": "stream",
     "text": [
      "Because the derivative of f(x) + g(x) is 0, this means that the graph of f(x) + g(x) will be a straight, horizontal line with a constant derivative wherever it is defined\n"
     ]
    }
   ],
   "source": [
    "print(\"Because the derivative of f(x) + g(x) is 0, this means that the graph of f(x) + g(x) will be a straight, horizontal line with a constant derivative wherever it is defined\")"
   ]
  },
  {
   "cell_type": "markdown",
   "id": "e7e04f9d",
   "metadata": {},
   "source": [
    "#### 3c"
   ]
  },
  {
   "cell_type": "code",
   "execution_count": 13,
   "id": "d3cb4575",
   "metadata": {},
   "outputs": [
    {
     "name": "stdout",
     "output_type": "stream",
     "text": [
      "    1.6 |                            ...........................\n",
      "        |                                                       \n",
      "        |                                                       \n",
      "        |                                                       \n",
      "        |                                                       \n",
      "        |                                                       \n",
      "        |                                                       \n",
      "        |                                                       \n",
      "        |                                                       \n",
      "        |                                                       \n",
      "      0 |-------------------------------------------------------\n",
      "        |                                                       \n",
      "        |                                                       \n",
      "        |                                                       \n",
      "        |                                                       \n",
      "        |                                                       \n",
      "        |                                                       \n",
      "        |                                                       \n",
      "        |                                                       \n",
      "        |                                                       \n",
      "   -1.6 |_______________________________________________________\n",
      "         -10                        0                          10\n",
      "f(x) = pi/2 when x > 0, and f(x) = -pi/2 when x < 0\n"
     ]
    }
   ],
   "source": [
    "plot(fx + gx)\n",
    "print(\"f(x) = pi/2 when x > 0, and f(x) = -pi/2 when x < 0\")"
   ]
  },
  {
   "cell_type": "markdown",
   "id": "f78847a1",
   "metadata": {},
   "source": [
    "#### 3d"
   ]
  },
  {
   "cell_type": "code",
   "execution_count": 14,
   "id": "9fff1823",
   "metadata": {},
   "outputs": [
    {
     "name": "stdout",
     "output_type": "stream",
     "text": [
      "Because tan(pi/2 - x) = cot(x) and cot(pi/2 - x) = tan(x), their x-values will reduce to be equal to pi/2\n"
     ]
    }
   ],
   "source": [
    "print(f\"Because tan(pi/2 - x) = cot(x) and cot(pi/2 - x) = tan(x), their x-values will reduce to be equal to pi/2\")"
   ]
  }
 ],
 "metadata": {
  "kernelspec": {
   "display_name": "Python 3.10.4 64-bit",
   "language": "python",
   "name": "python3"
  },
  "language_info": {
   "codemirror_mode": {
    "name": "ipython",
    "version": 3
   },
   "file_extension": ".py",
   "mimetype": "text/x-python",
   "name": "python",
   "nbconvert_exporter": "python",
   "pygments_lexer": "ipython3",
   "version": "3.10.4"
  },
  "vscode": {
   "interpreter": {
    "hash": "916dbcbb3f70747c44a77c7bcd40155683ae19c65e1c03b4aa3499c5328201f1"
   }
  }
 },
 "nbformat": 4,
 "nbformat_minor": 5
}

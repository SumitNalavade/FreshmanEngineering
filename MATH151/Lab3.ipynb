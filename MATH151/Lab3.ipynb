{
 "cells": [
  {
   "cell_type": "markdown",
   "id": "20c00fa5",
   "metadata": {},
   "source": [
    "## MATH 151 Lab  3"
   ]
  },
  {
   "cell_type": "markdown",
   "id": "7c243ef1",
   "metadata": {},
   "source": [
    "Sumit Nalavade, Ronit Dhawan, Charlie McLaughlin, Michael Perez\n",
    "Section: 526"
   ]
  },
  {
   "cell_type": "code",
   "execution_count": 1,
   "id": "cf836732",
   "metadata": {},
   "outputs": [],
   "source": [
    "from sympy import *\n",
    "from sympy.plotting import (plot,plot_parametric)"
   ]
  },
  {
   "cell_type": "markdown",
   "id": "3169990f",
   "metadata": {},
   "source": [
    "### Question 1"
   ]
  },
  {
   "cell_type": "markdown",
   "id": "f0561a86",
   "metadata": {},
   "source": [
    "#### 1a"
   ]
  },
  {
   "cell_type": "code",
   "execution_count": 2,
   "id": "0889599a",
   "metadata": {},
   "outputs": [
    {
     "name": "stdout",
     "output_type": "stream",
     "text": [
      "Because plugging in 0 for x evaluates to -1 and plugging 1 for x evaluates to 10, the conditions for the intermediate value theorem are met since the y-value, 0 lies between -1 and 10\n"
     ]
    }
   ],
   "source": [
    "x = symbols(\"x\")\n",
    "\n",
    "expr = (x**5) + (4 * (x ** 2)) - 2 * (x ** 2) + (8 * x) - 1\n",
    "\n",
    "lowerBound = expr.subs(x, 0)\n",
    "upperBound = expr.subs(x, 1)\n",
    "\n",
    "print(f\"Because plugging in 0 for x evaluates to {lowerBound} and plugging 1 for x evaluates to {upperBound}, the conditions for the intermediate value theorem are met since the y-value, 0 lies between {lowerBound} and {upperBound}\")"
   ]
  },
  {
   "cell_type": "markdown",
   "id": "efdd616f",
   "metadata": {},
   "source": [
    "#### 1b"
   ]
  },
  {
   "cell_type": "code",
   "execution_count": 3,
   "id": "582449e5",
   "metadata": {},
   "outputs": [
    {
     "name": "stdout",
     "output_type": "stream",
     "text": [
      "The function has a root at 0.121317246519799 inside the interval [0, 1]\n"
     ]
    }
   ],
   "source": [
    "roots = solve(expr, x)\n",
    "\n",
    "for i in roots:\n",
    "    if(i.is_real and ( i >= 0 and i <= 1 )):\n",
    "        root = i.evalf()\n",
    "        break\n",
    "print(f\"The function has a root at {root} inside the interval [0, 1]\")"
   ]
  },
  {
   "cell_type": "markdown",
   "id": "8b00f000",
   "metadata": {},
   "source": [
    "### Question 2"
   ]
  },
  {
   "cell_type": "markdown",
   "id": "bacdc1db",
   "metadata": {},
   "source": [
    "#### 2a"
   ]
  },
  {
   "cell_type": "code",
   "execution_count": 4,
   "id": "be2f2c71",
   "metadata": {},
   "outputs": [
    {
     "name": "stdout",
     "output_type": "stream",
     "text": [
      "f(3) is equal to 3\n",
      "The left handed limit of f(x) as x approaches 3 from the left is 3\n",
      "The right handed limit of f(x) as x approaches 3 from the right is 3\n",
      "f(x) is continuous at 3 because the left & right handed limits are equal and the function value is equal to the value of the limit \n",
      "\n",
      "f(4) is equal to 0\n",
      "The left handed limit of f(x) as x approaches 4 from the left is 0\n",
      "The right handed limit of f(x) as x approaches 4 from the left is 2\n",
      "f(x) is discontinuous at x = 4 because the left & right handed limits are not equal, but is left continuous at x = 4 because the limit as x approaches 4 from the negative is equal to the function value \n",
      "\n",
      "f(5) is equal to 3\n",
      "The left handed limit of f(x) as x approaches 5 from the left is 3\n",
      "The right handed limit of f(x) as x approaches 5 from the right is 3\n",
      "f(x) is continuous at 5 because the left & right handed limits are equal and the function value is equal to value of the limit \n",
      "\n"
     ]
    }
   ],
   "source": [
    "expr0 = (2 * x) - 3\n",
    "expr1 = (4 * x) - (x ** 2)\n",
    "expr2 = ((x ** 2) - (6 * x) + 8) / (x - 4)\n",
    "expr3 = (E ** ((x - 4) * (ln(3))))\n",
    "\n",
    "print(f\"f(3) is equal to {expr0.subs(x, 3)}\")\n",
    "print(f\"The left handed limit of f(x) as x approaches 3 from the left is {limit(expr0, x, 3)}\")\n",
    "print(f\"The right handed limit of f(x) as x approaches 3 from the right is {limit(expr1, x, 3)}\")\n",
    "print(f\"f(x) is continuous at 3 because the left & right handed limits are equal and the function value is equal to the value of the limit \\n\")\n",
    "\n",
    "print(f\"f(4) is equal to {expr1.subs(x, 4)}\")\n",
    "print(f\"The left handed limit of f(x) as x approaches 4 from the left is {limit(expr1, x, 4)}\")\n",
    "print(f\"The right handed limit of f(x) as x approaches 4 from the left is {limit(expr2, x, 4)}\")\n",
    "print(f\"f(x) is discontinuous at x = 4 because the left & right handed limits are not equal, but is left continuous at x = 4 because the limit as x approaches 4 from the negative is equal to the function value \\n\")\n",
    "\n",
    "print(f\"f(5) is equal to {expr3.subs(x, 5)}\")\n",
    "print(f\"The left handed limit of f(x) as x approaches 5 from the left is {limit(expr2, x, 5)}\")\n",
    "print(f\"The right handed limit of f(x) as x approaches 5 from the right is {limit(expr3, x, 5)}\")\n",
    "print(f\"f(x) is continuous at 5 because the left & right handed limits are equal and the function value is equal to value of the limit \\n\")"
   ]
  },
  {
   "cell_type": "markdown",
   "id": "23bc68a6",
   "metadata": {},
   "source": [
    "#### 2b"
   ]
  },
  {
   "cell_type": "code",
   "execution_count": 7,
   "id": "357bbf0f",
   "metadata": {},
   "outputs": [
    {
     "ename": "ValueError",
     "evalue": "The TextBackend supports only one graph per Plot.",
     "output_type": "error",
     "traceback": [
      "\u001b[0;31m---------------------------------------------------------------------------\u001b[0m",
      "\u001b[0;31mValueError\u001b[0m                                Traceback (most recent call last)",
      "\u001b[1;32m/home/sumitn/code/FreshmanEngineering/MATH151/Lab3.ipynb Cell 13\u001b[0m in \u001b[0;36m<cell line: 6>\u001b[0;34m()\u001b[0m\n\u001b[1;32m      <a href='vscode-notebook-cell://wsl%2Bubuntu-22.04/home/sumitn/code/FreshmanEngineering/MATH151/Lab3.ipynb#X15sdnNjb2RlLXJlbW90ZQ%3D%3D?line=2'>3</a>\u001b[0m line3 \u001b[39m=\u001b[39m (expr2, (x, \u001b[39m4\u001b[39m, \u001b[39m5\u001b[39m))\n\u001b[1;32m      <a href='vscode-notebook-cell://wsl%2Bubuntu-22.04/home/sumitn/code/FreshmanEngineering/MATH151/Lab3.ipynb#X15sdnNjb2RlLXJlbW90ZQ%3D%3D?line=3'>4</a>\u001b[0m line4 \u001b[39m=\u001b[39m (expr3, (x, \u001b[39m5\u001b[39m, \u001b[39m6\u001b[39m))\n\u001b[0;32m----> <a href='vscode-notebook-cell://wsl%2Bubuntu-22.04/home/sumitn/code/FreshmanEngineering/MATH151/Lab3.ipynb#X15sdnNjb2RlLXJlbW90ZQ%3D%3D?line=5'>6</a>\u001b[0m plot(line1, line2, line3, line4, ylim \u001b[39m=\u001b[39;49m (\u001b[39m-\u001b[39;49m\u001b[39m10\u001b[39;49m, \u001b[39m10\u001b[39;49m))\n",
      "File \u001b[0;32m~/.local/lib/python3.10/site-packages/sympy/plotting/plot.py:1873\u001b[0m, in \u001b[0;36mplot\u001b[0;34m(show, *args, **kwargs)\u001b[0m\n\u001b[1;32m   1871\u001b[0m plots \u001b[39m=\u001b[39m Plot(\u001b[39m*\u001b[39mseries, \u001b[39m*\u001b[39m\u001b[39m*\u001b[39mkwargs)\n\u001b[1;32m   1872\u001b[0m \u001b[39mif\u001b[39;00m show:\n\u001b[0;32m-> 1873\u001b[0m     plots\u001b[39m.\u001b[39;49mshow()\n\u001b[1;32m   1874\u001b[0m \u001b[39mreturn\u001b[39;00m plots\n",
      "File \u001b[0;32m~/.local/lib/python3.10/site-packages/sympy/plotting/plot.py:251\u001b[0m, in \u001b[0;36mPlot.show\u001b[0;34m(self)\u001b[0m\n\u001b[1;32m    249\u001b[0m     \u001b[39mself\u001b[39m\u001b[39m.\u001b[39m_backend\u001b[39m.\u001b[39mclose()\n\u001b[1;32m    250\u001b[0m \u001b[39mself\u001b[39m\u001b[39m.\u001b[39m_backend \u001b[39m=\u001b[39m \u001b[39mself\u001b[39m\u001b[39m.\u001b[39mbackend(\u001b[39mself\u001b[39m)\n\u001b[0;32m--> 251\u001b[0m \u001b[39mself\u001b[39;49m\u001b[39m.\u001b[39;49m_backend\u001b[39m.\u001b[39;49mshow()\n",
      "File \u001b[0;32m~/.local/lib/python3.10/site-packages/sympy/plotting/plot.py:1575\u001b[0m, in \u001b[0;36mTextBackend.show\u001b[0;34m(self)\u001b[0m\n\u001b[1;32m   1573\u001b[0m     \u001b[39mreturn\u001b[39;00m\n\u001b[1;32m   1574\u001b[0m \u001b[39mif\u001b[39;00m \u001b[39mlen\u001b[39m(\u001b[39mself\u001b[39m\u001b[39m.\u001b[39mparent\u001b[39m.\u001b[39m_series) \u001b[39m!=\u001b[39m \u001b[39m1\u001b[39m:\n\u001b[0;32m-> 1575\u001b[0m     \u001b[39mraise\u001b[39;00m \u001b[39mValueError\u001b[39;00m(\n\u001b[1;32m   1576\u001b[0m         \u001b[39m'\u001b[39m\u001b[39mThe TextBackend supports only one graph per Plot.\u001b[39m\u001b[39m'\u001b[39m)\n\u001b[1;32m   1577\u001b[0m \u001b[39melif\u001b[39;00m \u001b[39mnot\u001b[39;00m \u001b[39misinstance\u001b[39m(\u001b[39mself\u001b[39m\u001b[39m.\u001b[39mparent\u001b[39m.\u001b[39m_series[\u001b[39m0\u001b[39m], LineOver1DRangeSeries):\n\u001b[1;32m   1578\u001b[0m     \u001b[39mraise\u001b[39;00m \u001b[39mValueError\u001b[39;00m(\n\u001b[1;32m   1579\u001b[0m         \u001b[39m'\u001b[39m\u001b[39mThe TextBackend supports only expressions over a 1D range\u001b[39m\u001b[39m'\u001b[39m)\n",
      "\u001b[0;31mValueError\u001b[0m: The TextBackend supports only one graph per Plot."
     ]
    }
   ],
   "source": [
    "line1 = (expr0, (x, 0 , 3))\n",
    "line2 = (expr1, (x, 3, 4))\n",
    "line3 = (expr2, (x, 4, 5))\n",
    "line4 = (expr3, (x, 5, 6))\n",
    "\n",
    "plot(line1, line2, line3, line4, ylim = (-10, 10))"
   ]
  },
  {
   "cell_type": "markdown",
   "id": "1fb8b9b8",
   "metadata": {},
   "source": [
    "### Question 3"
   ]
  },
  {
   "cell_type": "markdown",
   "id": "ccffd0d0",
   "metadata": {},
   "source": [
    "#### 3a"
   ]
  },
  {
   "cell_type": "code",
   "execution_count": 6,
   "id": "9ebb9309",
   "metadata": {},
   "outputs": [
    {
     "name": "stdout",
     "output_type": "stream",
     "text": [
      "   1000 |                                             ..........\n",
      "        |                                       ......          \n",
      "        |                                    ...                \n",
      "        |                                  ..                   \n",
      "        |                                ..                     \n",
      "        |                               /                       \n",
      "        |                             ..                        \n",
      "        |                            /                          \n",
      "        |                           /                           \n",
      "        |                          /                            \n",
      "    505 |-------------------------/-----------------------------\n",
      "        |                        /                              \n",
      "        |                       /                               \n",
      "        |                      /                                \n",
      "        |                    ..                                 \n",
      "        |                   /                                   \n",
      "        |                 ..                                    \n",
      "        |               ..                                      \n",
      "        |            ...                                        \n",
      "        |       .....                                           \n",
      "     10 |_______________________________________________________\n",
      "         0                          50                         100\n"
     ]
    },
    {
     "data": {
      "text/plain": [
       "<sympy.plotting.plot.Plot at 0x7f357a3aef50>"
      ]
     },
     "execution_count": 6,
     "metadata": {},
     "output_type": "execute_result"
    }
   ],
   "source": [
    "K = symbols(\"K\")\n",
    "t = symbols(\"t\")\n",
    "\n",
    "expr = (K * 10) / (10 + (K - 10) * (E ** (-1 * 0.1 * t)))\n",
    "plot(expr.subs([(K, 1000)]), (t, 0, 100), ylim = (0, 1000))"
   ]
  },
  {
   "cell_type": "code",
   "execution_count": 8,
   "id": "4bbc7faf",
   "metadata": {},
   "outputs": [
    {
     "name": "stdout",
     "output_type": "stream",
     "text": [
      "The limit of f(x) when K = 1000 as t approaches infinity is 1000\n"
     ]
    }
   ],
   "source": [
    "limit = limit(expr.subs([(K, 1000)]), t, oo)\n",
    "print(f\"The limit of f(x) when K = 1000 as t approaches infinity is {limit}\")"
   ]
  },
  {
   "cell_type": "markdown",
   "id": "baa2be1a",
   "metadata": {},
   "source": [
    "#### 3b"
   ]
  },
  {
   "cell_type": "code",
   "execution_count": 9,
   "id": "ed50b7a1",
   "metadata": {},
   "outputs": [
    {
     "name": "stdout",
     "output_type": "stream",
     "text": [
      "     10 |.                                                      \n",
      "        |                                                       \n",
      "        |                                                       \n",
      "        |                                                       \n",
      "        |                                                       \n",
      "        |                                                       \n",
      "        |                                                       \n",
      "        | .                                                     \n",
      "        |                                                       \n",
      "        |                                                       \n",
      "    5.5 |-------------------------------------------------------\n",
      "        |  .                                                    \n",
      "        |                                                       \n",
      "        |   .                                                   \n",
      "        |    \\                                                  \n",
      "        |     \\                                                 \n",
      "        |      \\                                                \n",
      "        |       ...                                             \n",
      "        |          .....                                        \n",
      "        |               ..............                          \n",
      "      1 |_______________________________________________________\n",
      "         0                          15                         30\n"
     ]
    },
    {
     "data": {
      "text/plain": [
       "<sympy.plotting.plot.Plot at 0x7f35797f9870>"
      ]
     },
     "execution_count": 9,
     "metadata": {},
     "output_type": "execute_result"
    }
   ],
   "source": [
    "plot(expr.subs([(K, 1)]), (t, 0, 30), ylim = (0, 10))"
   ]
  },
  {
   "cell_type": "code",
   "execution_count": 11,
   "id": "6c67d267",
   "metadata": {},
   "outputs": [
    {
     "ename": "TypeError",
     "evalue": "'Integer' object is not callable",
     "output_type": "error",
     "traceback": [
      "\u001b[0;31m---------------------------------------------------------------------------\u001b[0m",
      "\u001b[0;31mTypeError\u001b[0m                                 Traceback (most recent call last)",
      "\u001b[1;32m/home/sumitn/code/FreshmanEngineering/MATH151/Lab3.ipynb Cell 20\u001b[0m in \u001b[0;36m<cell line: 1>\u001b[0;34m()\u001b[0m\n\u001b[0;32m----> <a href='vscode-notebook-cell://wsl%2Bubuntu-22.04/home/sumitn/code/FreshmanEngineering/MATH151/Lab3.ipynb#X25sdnNjb2RlLXJlbW90ZQ%3D%3D?line=0'>1</a>\u001b[0m limit \u001b[39m=\u001b[39m limit(expr\u001b[39m.\u001b[39;49msubs([(K, \u001b[39m1\u001b[39;49m)]), t, oo)\n\u001b[1;32m      <a href='vscode-notebook-cell://wsl%2Bubuntu-22.04/home/sumitn/code/FreshmanEngineering/MATH151/Lab3.ipynb#X25sdnNjb2RlLXJlbW90ZQ%3D%3D?line=1'>2</a>\u001b[0m \u001b[39mprint\u001b[39m(\u001b[39mf\u001b[39m\u001b[39m\"\u001b[39m\u001b[39mThe limit of f(x) when K = 1 as t approaches infinity is \u001b[39m\u001b[39m{\u001b[39;00mlimit\u001b[39m}\u001b[39;00m\u001b[39m\"\u001b[39m)\n",
      "\u001b[0;31mTypeError\u001b[0m: 'Integer' object is not callable"
     ]
    }
   ],
   "source": [
    "limit = limit(expr.subs([(K, 1)]), t, oo)\n",
    "print(f\"The limit of f(x) when K = 1 as t approaches infinity is {limit}\")"
   ]
  },
  {
   "cell_type": "markdown",
   "id": "f78847a1",
   "metadata": {},
   "source": [
    "#### 3c"
   ]
  },
  {
   "cell_type": "code",
   "execution_count": 10,
   "id": "9fff1823",
   "metadata": {},
   "outputs": [
    {
     "name": "stdout",
     "output_type": "stream",
     "text": [
      "     10 |.                                                      \n",
      "        |                                                       \n",
      "        |                                                       \n",
      "        |                                                       \n",
      "        |                                                       \n",
      "        |                                                       \n",
      "        |                                                       \n",
      "        | .                                                     \n",
      "        |                                                       \n",
      "        |                                                       \n",
      "    5.5 |-------------------------------------------------------\n",
      "        |  .                                                    \n",
      "        |                                                       \n",
      "        |   .                                                   \n",
      "        |    \\                                                  \n",
      "        |     \\                                                 \n",
      "        |      \\                                                \n",
      "        |       ...                                             \n",
      "        |          .....                                        \n",
      "        |               ..............                          \n",
      "      1 |_______________________________________________________\n",
      "         0                          15                         30\n"
     ]
    },
    {
     "data": {
      "text/plain": [
       "<sympy.plotting.plot.Plot at 0x7f35796a3160>"
      ]
     },
     "execution_count": 10,
     "metadata": {},
     "output_type": "execute_result"
    }
   ],
   "source": [
    "plot(expr.subs([(K, 1)]), (t, 0, 30), ylim = (0, 10))"
   ]
  },
  {
   "cell_type": "code",
   "execution_count": null,
   "id": "2d5336e7",
   "metadata": {},
   "outputs": [],
   "source": [
    "limit = limit(expr.subs([(K, 15)]), t, oo)\n",
    "print(f\"The limit of f(x) when K = 15 as t approaches infinity is {limit}\")"
   ]
  },
  {
   "cell_type": "markdown",
   "id": "01baba23",
   "metadata": {},
   "source": [
    "#### 3d"
   ]
  },
  {
   "cell_type": "code",
   "execution_count": null,
   "id": "311a556a",
   "metadata": {},
   "outputs": [],
   "source": [
    "print(\"As t goes to infinity, population size reaches a limit K. \\nWe can infer that the value K represents the max size of the population regardless of how high t gets\")"
   ]
  }
 ],
 "metadata": {
  "kernelspec": {
   "display_name": "Python 3.10.4 64-bit",
   "language": "python",
   "name": "python3"
  },
  "language_info": {
   "codemirror_mode": {
    "name": "ipython",
    "version": 3
   },
   "file_extension": ".py",
   "mimetype": "text/x-python",
   "name": "python",
   "nbconvert_exporter": "python",
   "pygments_lexer": "ipython3",
   "version": "3.10.4"
  },
  "vscode": {
   "interpreter": {
    "hash": "916dbcbb3f70747c44a77c7bcd40155683ae19c65e1c03b4aa3499c5328201f1"
   }
  }
 },
 "nbformat": 4,
 "nbformat_minor": 5
}
